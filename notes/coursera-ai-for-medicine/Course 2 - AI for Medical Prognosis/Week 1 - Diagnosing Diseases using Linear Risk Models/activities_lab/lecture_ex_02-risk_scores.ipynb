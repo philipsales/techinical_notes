{
 "cells": [
  {
   "cell_type": "markdown",
   "metadata": {},
   "source": [
    "# Course 2 week 1 lecture notebook Ex 02\n",
    "# Risk Scores, Pandas and Numpy\n",
    "\n",
    "Here, you'll get a chance to see the risk scores implemented as Python functions.\n",
    "- Atrial fibrillation: Chads-vasc score\n",
    "- Liver disease: MELD score\n",
    "- Heart disease: ASCVD score"
   ]
  },
  {
   "cell_type": "markdown",
   "metadata": {},
   "source": [
    "Compute the chads-vasc risk score for atrial fibrillation.  \n",
    "- Look for the `# TODO` comments to see which parts you will complete."
   ]
  },
  {
   "cell_type": "code",
   "execution_count": 4,
   "metadata": {},
   "outputs": [],
   "source": [
    "# Complete the function that calculates the chads-vasc score. \n",
    "# Look for the # TODO comments to see which sections you should fill in.\n",
    "\n",
    "def chads_vasc_score(input_c, input_h, input_a2, input_d, input_s2, input_v, input_a, input_sc):\n",
    "    # congestive heart failure\n",
    "    coef_c = 1 \n",
    "    \n",
    "    # Coefficient for hypertension\n",
    "    coef_h = 1 \n",
    "    \n",
    "    # Coefficient for Age >= 75 years\n",
    "    coef_a2 = 2\n",
    "    \n",
    "    # Coefficient for diabetes mellitus\n",
    "    coef_d = 1\n",
    "    \n",
    "    # Coefficient for stroke\n",
    "    coef_s2 = 2\n",
    "    \n",
    "    # Coefficient for vascular disease\n",
    "    coef_v = 1\n",
    "    \n",
    "    # Coefficient for age 65 to 74 years\n",
    "    coef_a = 1\n",
    "    \n",
    "    # TODO Coefficient for female\n",
    "    coef_sc = 1\n",
    "    \n",
    "    # Calculate the risk score\n",
    "    risk_score = (input_c * coef_c) +\\\n",
    "                 (input_h * coef_h) +\\\n",
    "                 (input_a2 * coef_a2) +\\\n",
    "                 (input_d * coef_d) +\\\n",
    "                 (input_s2 * coef_s2) +\\\n",
    "                 (input_v * coef_v) +\\\n",
    "                 (input_a * coef_a) +\\\n",
    "                 (input_sc * coef_sc)\n",
    "    \n",
    "    return risk_score"
   ]
  },
  {
   "cell_type": "markdown",
   "metadata": {},
   "source": [
    "### Calculate the risk score\n",
    "\n",
    "Calculate the chads-vasc score for a patient who has the following attributes:\n",
    "- Congestive heart failure? No\n",
    "- Hypertension: yes\n",
    "- Age 75 or older: no\n",
    "- Diabetes mellitus: no\n",
    "- Stroke: no\n",
    "- Vascular disease: yes\n",
    "- Age 65 to 74: no\n",
    "- Female? : yes"
   ]
  },
  {
   "cell_type": "code",
   "execution_count": 5,
   "metadata": {},
   "outputs": [
    {
     "name": "stdout",
     "output_type": "stream",
     "text": [
      "The chads-vasc score for this patient is 3\n"
     ]
    }
   ],
   "source": [
    "# Calculate the patient's Chads-vasc risk score\n",
    "tmp_c = 0\n",
    "tmp_h = 1\n",
    "tmp_a2 = 0\n",
    "tmp_d = 0\n",
    "tmp_s2 = 0\n",
    "tmp_v = 1\n",
    "tmp_a = 0\n",
    "tmp_sc = 1\n",
    "\n",
    "print(f\"The chads-vasc score for this patient is\",\n",
    "      f\"{chads_vasc_score(tmp_c, tmp_h, tmp_a2, tmp_d, tmp_s2, tmp_v, tmp_a, tmp_sc)}\")"
   ]
  },
  {
   "cell_type": "markdown",
   "metadata": {},
   "source": [
    "#### Expected output\n",
    "```CPP\n",
    "The chads-vasc score for this patient is 3\n",
    "```"
   ]
  },
  {
   "cell_type": "markdown",
   "metadata": {},
   "source": [
    "### Risk score for liver disease\n",
    "\n",
    "Complete the implementation of the MELD score and use it to calculate the risk score for a particular patient.\n",
    "- Look for the `# TODO` comments to see which parts you will complete."
   ]
  },
  {
   "cell_type": "code",
   "execution_count": 6,
   "metadata": {},
   "outputs": [],
   "source": [
    "import numpy as np"
   ]
  },
  {
   "cell_type": "code",
   "execution_count": 10,
   "metadata": {},
   "outputs": [],
   "source": [
    "def liver_disease_mortality(input_creatine, input_bilirubin, input_inr):\n",
    "    \"\"\"\n",
    "    Calculate the probability of mortality given that the patient has\n",
    "    liver disease. \n",
    "    Parameters:\n",
    "        Creatine: mg/dL\n",
    "        Bilirubin: mg/dL\n",
    "        INR: \n",
    "    \"\"\"\n",
    "    # Coefficient values\n",
    "    coef_creatine = 0.957\n",
    "    coef_bilirubin = 0.378\n",
    "    coef_inr = 1.12\n",
    "    intercept = 0.643\n",
    "    # Calculate the natural logarithm of input variables\n",
    "    log_cre = np.log(input_creatine)\n",
    "    log_bil = np.log(input_bilirubin)\n",
    "    \n",
    "    # TODO: Calculate the natural log of input_inr\n",
    "    log_inr = np.log(input_inr)\n",
    "    \n",
    "    # Compute output\n",
    "    meld_score = (coef_creatine * log_cre) +\\\n",
    "                 (coef_bilirubin * log_bil ) +\\\n",
    "                 (coef_inr * log_inr) +\\\n",
    "                 intercept\n",
    "    \n",
    "    # TODO: Multiply meld_score by 10 to get the final risk score\n",
    "    meld_score = meld_score * 10\n",
    "    \n",
    "    return meld_score"
   ]
  },
  {
   "cell_type": "markdown",
   "metadata": {},
   "source": [
    "For a patient who has \n",
    "- Creatinine: 1 mg/dL\n",
    "- Bilirubin: 2 mg/dL\n",
    "- INR: 1.1\n",
    "\n",
    "Calculate their MELD score"
   ]
  },
  {
   "cell_type": "code",
   "execution_count": 11,
   "metadata": {},
   "outputs": [
    {
     "name": "stdout",
     "output_type": "stream",
     "text": [
      "The patient's MELD score is: 10.12\n"
     ]
    }
   ],
   "source": [
    "tmp_meld_score = liver_disease_mortality(1.0, 2.0, 1.1)\n",
    "print(f\"The patient's MELD score is: {tmp_meld_score:.2f}\")"
   ]
  },
  {
   "cell_type": "markdown",
   "metadata": {},
   "source": [
    "#### Expected output\n",
    "```CPP\n",
    "The patient's MELD score is: 10.12\n",
    "```"
   ]
  },
  {
   "cell_type": "markdown",
   "metadata": {},
   "source": [
    "### ASCVD Risk score for heart disease\n",
    "\n",
    "Complete the function that calculates the ASCVD risk score!\n",
    "\n",
    "- Ln(Age), coefficient is 17.114\n",
    "- Ln(total cholesterol): coefficient is 0.94\n",
    "- Ln(HDL): coefficient is -18.920\n",
    "- Ln(Age) x Ln(HDL-C): coefficient is 4.475\n",
    "- Ln (Untreated systolic BP): coefficient is 27.820\n",
    "- Ln (Age) x Ln 10 (Untreated systolic BP): coefficient  is -6.087\n",
    "- Current smoker (1 or 0): coefficient is 0.691\n",
    "- Diabetes (1 or 0): coefficient is 0.874\n",
    "\n",
    "\n",
    "Remember that after you calculate the sum of the products (of inputs and coefficients), use this formula to get the risk score:\n",
    "\n",
    "$$Risk = 1 - 0.9533^{e^{sumProd - 86.61}}$$\n",
    "\n",
    "This is 0.9533 raised to the power of this expression: $e^{sumProd - 86.61}$, and not 0.9533 multiplied by that exponential.\n",
    "\n",
    "- Look for the `# TODO` comments to see which parts you will complete."
   ]
  },
  {
   "cell_type": "code",
   "execution_count": 28,
   "metadata": {},
   "outputs": [],
   "source": [
    "def ascvd(x_age,\n",
    "          x_cho,\n",
    "          x_hdl,\n",
    "          x_sbp,\n",
    "          x_smo,\n",
    "          x_dia,\n",
    "          verbose=False\n",
    "         ):\n",
    "    \"\"\"\n",
    "    Atherosclerotic Cardiovascular Disease\n",
    "    (ASCVD) Risk Estimator Plus\n",
    "    \"\"\"\n",
    "    \n",
    "    # Define the coefficients\n",
    "    b_age = 17.114\n",
    "    b_cho = 0.94\n",
    "    b_hdl = -18.92\n",
    "    b_age_hdl = 4.475\n",
    "    b_sbp = 27.82\n",
    "    b_age_sbp = -6.087\n",
    "    b_smo = 0.691\n",
    "    b_dia = 0.874\n",
    "    \n",
    "    # Calculate the sum of the products of inputs and coefficients\n",
    "    sum_prod =  b_age * np.log(x_age) + \\\n",
    "                b_cho * np.log(x_cho) + \\\n",
    "                b_hdl * np.log(x_hdl) + \\\n",
    "                b_age_hdl * np.log(x_age) * np.log(x_hdl) +\\\n",
    "                b_sbp * np.log(x_sbp) +\\\n",
    "                b_age_sbp * np.log(x_age) * np.log(x_sbp) +\\\n",
    "                b_smo * x_smo + \\\n",
    "                b_dia * x_dia\n",
    "    \n",
    "    if verbose:\n",
    "        print(f\"np.log(x_age):{np.log(x_age):.2f}\")\n",
    "        print(f\"np.log(x_cho):{np.log(x_cho):.2f}\")\n",
    "        print(f\"np.log(x_hdl):{np.log(x_hdl):.2f}\")\n",
    "        print(f\"np.log(x_age) * np.log(x_hdl):{np.log(x_age) * np.log(x_hdl):.2f}\")\n",
    "        print(f\"np.log(x_sbp): {np.log(x_sbp):2f}\")\n",
    "        print(f\"np.log(x_age) * np.log(x_sbp): {np.log(x_age) * np.log(x_sbp):.2f}\")\n",
    "        print(f\"sum_prod {sum_prod:.2f}\")\n",
    "        \n",
    "    # TODO: Risk Score = 1 - (0.9533^( e^(sum - 86.61) ) )\n",
    "    risk_score = 1 - ( 0.9533 ** np.exp(sum_prod - 86.61))\n",
    "    \n",
    "    return risk_score"
   ]
  },
  {
   "cell_type": "code",
   "execution_count": 33,
   "metadata": {},
   "outputs": [
    {
     "name": "stdout",
     "output_type": "stream",
     "text": [
      "np.log(x_age):4.01\n",
      "np.log(x_cho):5.36\n",
      "np.log(x_hdl):3.91\n",
      "np.log(x_age) * np.log(x_hdl):15.68\n",
      "np.log(x_sbp): 4.787492\n",
      "np.log(x_age) * np.log(x_sbp): 19.19\n",
      "sum_prod 86.17\n",
      "\n",
      "patient's ascvd risk score is 0.03\n"
     ]
    }
   ],
   "source": [
    "tmp_risk_score = ascvd(x_age=55,\n",
    "                      x_cho=213,\n",
    "                      x_hdl=50,\n",
    "                      x_sbp=120,\n",
    "                      x_smo=0,\n",
    "                      x_dia=0, \n",
    "                      verbose=True\n",
    "                      )\n",
    "print(f\"\\npatient's ascvd risk score is {tmp_risk_score:.2f}\")"
   ]
  },
  {
   "cell_type": "markdown",
   "metadata": {},
   "source": [
    "#### Expected output\n",
    "```CPP\n",
    "patient's ascvd risk score is 0.03\n",
    "```"
   ]
  },
  {
   "cell_type": "markdown",
   "metadata": {},
   "source": [
    "<details>    \n",
    "<summary>\n",
    "    <font size=\"3\" color=\"darkgreen\"><b>Solution</b></font>\n",
    "</summary>\n",
    "<p>\n",
    "<code>\n",
    "risk_score = 1 - 0.9533**(np.exp(86.16-86.61))\n",
    "</code>\n",
    "</p>\n",
    "\n",
    "    "
   ]
  },
  {
   "cell_type": "markdown",
   "metadata": {},
   "source": [
    "# Numpy and Pandas Operations\n",
    "\n",
    "In this exercise, you will load a small dataset and compare how pandas functions and numpy functions are slightly different.  This exercise will help you when you pre-process the data in this week's assignment."
   ]
  },
  {
   "cell_type": "code",
   "execution_count": 35,
   "metadata": {},
   "outputs": [],
   "source": [
    "# Import packages\n",
    "import numpy as np\n",
    "import pandas as pd\n",
    "\n",
    "# Import a predefined function that will generate data\n",
    "from utils import load_data"
   ]
  },
  {
   "cell_type": "code",
   "execution_count": 36,
   "metadata": {},
   "outputs": [],
   "source": [
    "# generate the features 'X' and labels 'y'\n",
    "X, y = load_data(100)"
   ]
  },
  {
   "cell_type": "code",
   "execution_count": 37,
   "metadata": {},
   "outputs": [
    {
     "data": {
      "text/html": [
       "<div>\n",
       "<style scoped>\n",
       "    .dataframe tbody tr th:only-of-type {\n",
       "        vertical-align: middle;\n",
       "    }\n",
       "\n",
       "    .dataframe tbody tr th {\n",
       "        vertical-align: top;\n",
       "    }\n",
       "\n",
       "    .dataframe thead th {\n",
       "        text-align: right;\n",
       "    }\n",
       "</style>\n",
       "<table border=\"1\" class=\"dataframe\">\n",
       "  <thead>\n",
       "    <tr style=\"text-align: right;\">\n",
       "      <th></th>\n",
       "      <th>Age</th>\n",
       "      <th>Systolic_BP</th>\n",
       "      <th>Diastolic_BP</th>\n",
       "      <th>Cholesterol</th>\n",
       "    </tr>\n",
       "  </thead>\n",
       "  <tbody>\n",
       "    <tr>\n",
       "      <th>0</th>\n",
       "      <td>77.196340</td>\n",
       "      <td>78.379387</td>\n",
       "      <td>86.862625</td>\n",
       "      <td>83.344731</td>\n",
       "    </tr>\n",
       "    <tr>\n",
       "      <th>1</th>\n",
       "      <td>63.529850</td>\n",
       "      <td>85.439716</td>\n",
       "      <td>77.288707</td>\n",
       "      <td>107.483614</td>\n",
       "    </tr>\n",
       "    <tr>\n",
       "      <th>2</th>\n",
       "      <td>69.003986</td>\n",
       "      <td>98.406978</td>\n",
       "      <td>85.411057</td>\n",
       "      <td>118.495893</td>\n",
       "    </tr>\n",
       "    <tr>\n",
       "      <th>3</th>\n",
       "      <td>82.638210</td>\n",
       "      <td>100.362697</td>\n",
       "      <td>71.119650</td>\n",
       "      <td>87.737132</td>\n",
       "    </tr>\n",
       "    <tr>\n",
       "      <th>4</th>\n",
       "      <td>78.346286</td>\n",
       "      <td>121.854369</td>\n",
       "      <td>92.013270</td>\n",
       "      <td>99.121558</td>\n",
       "    </tr>\n",
       "  </tbody>\n",
       "</table>\n",
       "</div>"
      ],
      "text/plain": [
       "         Age  Systolic_BP  Diastolic_BP  Cholesterol\n",
       "0  77.196340    78.379387     86.862625    83.344731\n",
       "1  63.529850    85.439716     77.288707   107.483614\n",
       "2  69.003986    98.406978     85.411057   118.495893\n",
       "3  82.638210   100.362697     71.119650    87.737132\n",
       "4  78.346286   121.854369     92.013270    99.121558"
      ]
     },
     "execution_count": 37,
     "metadata": {},
     "output_type": "execute_result"
    }
   ],
   "source": [
    "# View the first few rows and column names of the features data frame\n",
    "X.head()"
   ]
  },
  {
   "cell_type": "code",
   "execution_count": 38,
   "metadata": {},
   "outputs": [
    {
     "data": {
      "text/plain": [
       "0    0.0\n",
       "1    0.0\n",
       "2    1.0\n",
       "3    1.0\n",
       "4    1.0\n",
       "Name: y, dtype: float64"
      ]
     },
     "execution_count": 38,
     "metadata": {},
     "output_type": "execute_result"
    }
   ],
   "source": [
    "#view the labels\n",
    "y.head()"
   ]
  },
  {
   "cell_type": "markdown",
   "metadata": {},
   "source": [
    "### How does `.mean` differ from pandas and numpy?\n",
    "\n",
    "Even though you've likely used numpy and pandas before, it helps to pay attention to how they are slightly different in their default behaviors.\n",
    "\n",
    "See how calculating the mean using pandas differs a bit from when calculating the mean with numpy."
   ]
  },
  {
   "cell_type": "markdown",
   "metadata": {},
   "source": [
    "### Pandas.DataFrame.mean\n",
    "\n",
    "Call the .mean function of the pandas DataFrame."
   ]
  },
  {
   "cell_type": "code",
   "execution_count": 39,
   "metadata": {},
   "outputs": [
    {
     "name": "stdout",
     "output_type": "stream",
     "text": [
      "Pandas: X.mean():\n",
      "Age              61.145103\n",
      "Systolic_BP      99.762232\n",
      "Diastolic_BP     91.147442\n",
      "Cholesterol     100.925003\n",
      "dtype: float64\n",
      "\n",
      "Pandas: X.mean(axis=0)\n",
      "Age              61.145103\n",
      "Systolic_BP      99.762232\n",
      "Diastolic_BP     91.147442\n",
      "Cholesterol     100.925003\n",
      "dtype: float64\n"
     ]
    }
   ],
   "source": [
    "# Call the .mean function of the data frame without choosing an axis\n",
    "print(f\"Pandas: X.mean():\\n{X.mean()}\")\n",
    "print()\n",
    "# Call the .mean function of the data frame, choosing axis=0\n",
    "print(f\"Pandas: X.mean(axis=0)\\n{X.mean(axis=0)}\")"
   ]
  },
  {
   "cell_type": "markdown",
   "metadata": {},
   "source": [
    "For pandas DataFrames:\n",
    "- By default, pandas treats each column separately.  \n",
    "- You can also explicitly instruct the function to calculate the mean for each column by setting axis=0.\n",
    "- In both cases, you get the same result."
   ]
  },
  {
   "cell_type": "markdown",
   "metadata": {},
   "source": [
    "### Numpy.ndarray.mean\n",
    "Compare this with what happens when you call `.mean` and the object is a numpy array.\n",
    "\n",
    "First store the tabular data into a numpy ndarray."
   ]
  },
  {
   "cell_type": "code",
   "execution_count": 42,
   "metadata": {},
   "outputs": [
    {
     "name": "stdout",
     "output_type": "stream",
     "text": [
      "First 2 rows of the numpy array:\n",
      "[[ 77.19633951  78.37938696  86.86262497  83.344731  ]\n",
      " [ 63.52985022  85.43971583  77.28870706 107.48361434]]\n",
      "\n",
      "Numpy.ndarray.mean: X_np.mean:\n",
      "88.24494498174543 for entire 2D array\n",
      "\n",
      "Numpy.ndarray.mean: X_np.mean(axis=0):\n",
      "[ 61.14510296  99.76223179  91.14744211 100.92500307] for per column\n"
     ]
    }
   ],
   "source": [
    "# Store the data frame data into a numpy array\n",
    "X_np = np.array(X)\n",
    "\n",
    "# view the first 2 rows of the numpy array\n",
    "print(f\"First 2 rows of the numpy array:\\n{X_np[0:2,:]}\")\n",
    "print()\n",
    "\n",
    "# Call the .mean function of the numpy array without choosing an axis\n",
    "print(f\"Numpy.ndarray.mean: X_np.mean:\\n{X_np.mean()} for entire 2D array\")\n",
    "print()\n",
    "# Call the .mean function of the numpy array, choosing axis=0\n",
    "print(f\"Numpy.ndarray.mean: X_np.mean(axis=0):\\n{X_np.mean(axis=0)} for per column\")"
   ]
  },
  {
   "cell_type": "code",
   "execution_count": 41,
   "metadata": {
    "collapsed": true,
    "jupyter": {
     "outputs_hidden": true
    }
   },
   "outputs": [
    {
     "data": {
      "text/plain": [
       "array([[ 77.19633951,  78.37938696,  86.86262497,  83.344731  ],\n",
       "       [ 63.52985022,  85.43971583,  77.28870706, 107.48361434],\n",
       "       [ 69.00398622,  98.40697774,  85.41105734, 118.49589331],\n",
       "       [ 82.63820981, 100.36269658,  71.1196497 ,  87.73713192],\n",
       "       [ 78.34628567, 121.85436867,  92.01326976,  99.12155796],\n",
       "       [ 52.18178233,  99.76326474,  82.40645954,  89.93842937],\n",
       "       [ 68.72214419, 101.14056279,  81.22289285,  94.25685268],\n",
       "       [ 58.71657787, 111.58854816,  90.29256958, 116.92977461],\n",
       "       [ 59.12175798, 104.78449141,  98.1632902 , 103.72525558],\n",
       "       [ 63.62468291,  89.92698698,  73.91259703,  86.08140598],\n",
       "       [ 61.24744996, 110.38602231,  97.86908281, 100.59735679],\n",
       "       [ 73.8545723 ,  95.60082916,  88.17748787, 105.93439586],\n",
       "       [ 66.89098718,  94.0856144 ,  84.50503014,  98.28766077],\n",
       "       [ 61.05204563,  98.98824558, 100.82618195, 117.85972694],\n",
       "       [ 63.92775358, 102.91431833,  75.75028404, 110.82856692],\n",
       "       [ 62.92932827,  87.1123743 ,  80.5299919 , 101.79613449],\n",
       "       [ 74.27574338, 107.96868908, 102.16397749, 112.62455882],\n",
       "       [ 58.26702001,  82.73361736,  84.13775827,  84.97754525],\n",
       "       [ 62.74434909,  96.44538747,  86.91389126, 109.98798132],\n",
       "       [ 53.10817574, 101.17465838, 104.7432603 , 110.64397648],\n",
       "       [ 41.66376188, 118.44750132,  83.20781541, 103.16518753],\n",
       "       [ 65.87234137,  91.498809  ,  88.6556419 , 108.59428989],\n",
       "       [ 67.88638152,  97.89081132,  96.0028952 , 122.35427488],\n",
       "       [ 53.9642067 , 103.61504262,  83.4989762 ,  96.25475606],\n",
       "       [ 82.97963554,  89.2827726 ,  91.03669211,  89.76535277],\n",
       "       [ 48.74380134,  89.65397896,  90.9899634 ,  93.36227669],\n",
       "       [ 60.3935006 , 103.91045685,  95.28371864, 101.6305087 ],\n",
       "       [ 58.41682877, 107.18181472, 116.96750497, 100.53643458],\n",
       "       [ 74.68752086,  85.39746428,  96.1513257 ,  94.04379442],\n",
       "       [ 74.0139033 ,  94.78457882,  84.02518036, 111.56964494],\n",
       "       [ 61.34292906, 113.12969477,  99.35877547, 109.8990064 ],\n",
       "       [ 63.33054646, 113.91239994,  98.26282551, 107.03949016],\n",
       "       [ 52.85318772,  99.19166894,  72.56252554, 103.50274133],\n",
       "       [ 45.21250185,  87.48182114,  82.831568  ,  89.52595953],\n",
       "       [ 57.09079108,  95.49439978,  77.57325417,  92.80488166],\n",
       "       [ 61.3552124 , 113.92864741, 107.25988096, 109.44200022],\n",
       "       [ 71.52881487,  97.10288426,  83.73662014, 103.35145058],\n",
       "       [ 71.24417861, 102.68759196,  87.76183268,  92.40025848],\n",
       "       [ 56.77023517, 105.10367602,  98.64962009, 109.39547738],\n",
       "       [ 57.46398795, 112.71169347,  81.12421351,  89.69926367],\n",
       "       [ 51.65315518, 105.65270179, 101.10511363, 106.48347068],\n",
       "       [ 48.98356614,  86.75929736,  90.75870035, 101.58234209],\n",
       "       [ 47.02087621, 100.27036788,  91.26593948,  94.64812366],\n",
       "       [ 79.28324036,  92.72693765,  99.00659182, 103.9160409 ],\n",
       "       [ 55.78679026, 107.47210329,  99.1880966 ,  96.43547012],\n",
       "       [ 56.36015962, 103.64980225,  90.53346869,  79.20653717],\n",
       "       [ 50.16782056, 101.0376792 ,  88.16804831,  91.01280959],\n",
       "       [ 67.04839104, 102.38585708,  94.99925934, 101.98682945],\n",
       "       [ 47.64547808,  91.71329956,  91.32068961, 115.90810475],\n",
       "       [ 58.20394254,  86.72961565,  92.1516299 ,  86.44149191],\n",
       "       [ 52.79522588,  92.22576629,  87.20504319,  98.49581097],\n",
       "       [ 63.40966836, 107.48441126,  86.72308178, 104.40768782],\n",
       "       [ 55.77760249,  96.7558408 , 109.56933783, 101.40638978],\n",
       "       [ 50.68767689,  87.88908612,  91.73115773,  96.12990987],\n",
       "       [ 59.75892366, 104.62207139, 105.8520027 ,  94.04939282],\n",
       "       [ 63.78607009, 101.97039707,  86.64574217,  97.26103977],\n",
       "       [ 60.57286512, 103.23906106,  89.91886792, 104.62120073],\n",
       "       [ 62.64944567, 142.87149508, 103.38623149, 120.16627493],\n",
       "       [ 54.8020236 , 102.75788246,  93.46660366, 109.94465443],\n",
       "       [ 56.9699762 ,  88.17037907,  86.29618998, 121.69684389],\n",
       "       [ 54.50425565, 108.00821694,  91.35792531,  93.71277499],\n",
       "       [ 56.9959279 ,  89.91053353,  75.91912313,  90.49841623],\n",
       "       [ 53.41976495, 118.06765236,  90.46436989, 108.84990627],\n",
       "       [ 46.88663946,  86.22864081,  84.9635836 ,  89.30335211],\n",
       "       [ 61.54023287,  77.19915056,  77.85737133,  85.16077806],\n",
       "       [ 56.65313273,  91.73081762,  79.04904906,  93.94812257],\n",
       "       [ 47.53465786, 105.89578554,  99.03979249,  94.63406472],\n",
       "       [ 64.10076594,  86.65257907,  82.07494356,  84.30600343],\n",
       "       [ 52.70606373,  91.83978419,  93.48401831,  89.03985804],\n",
       "       [ 60.44690238, 116.90723457,  99.07289568, 108.07122077],\n",
       "       [ 66.58640029, 108.62878848,  93.67757958,  91.3871393 ],\n",
       "       [ 61.11581632, 103.45855738,  96.24058926, 108.10538012],\n",
       "       [ 70.60606791,  98.44398023,  91.50319258, 100.9492964 ],\n",
       "       [ 50.29677067,  96.154666  ,  97.46526854,  98.59102824],\n",
       "       [ 63.54967856,  92.1448394 ,  96.92258917,  94.22007334],\n",
       "       [ 54.40818212, 101.51002957,  81.47301012, 117.47391402],\n",
       "       [ 52.98161515, 112.79734154,  88.4791777 , 107.16885096],\n",
       "       [ 55.23803484, 116.02403101, 103.48874893, 100.29548261],\n",
       "       [ 57.38810533, 129.37458958, 121.27927132, 110.02456391],\n",
       "       [ 60.48335375,  92.08856848,  80.63857871, 108.52343219],\n",
       "       [ 50.7999101 ,  88.91679445,  87.12914352,  89.41847318],\n",
       "       [ 68.24021545, 107.22231065, 102.49586213, 110.25658935],\n",
       "       [ 64.12714594, 104.10439699,  89.20725385, 105.96668811],\n",
       "       [ 48.17697349,  92.35853208,  97.48932619,  91.75129064],\n",
       "       [ 74.21394114,  85.43820347,  85.54460532,  88.15336468],\n",
       "       [ 78.66402011,  92.28243424, 102.65728324, 107.93885667],\n",
       "       [ 71.00438558, 108.38515565,  88.05568085, 106.05743124],\n",
       "       [ 58.47743856, 106.37658843,  85.52530342,  98.8327047 ],\n",
       "       [ 51.48960291, 101.2081381 ,  90.62528171,  98.50220839],\n",
       "       [ 69.75440154, 101.4494466 , 100.09294597,  97.63228234],\n",
       "       [ 56.64183551,  91.47484129,  86.61077389, 106.05607256],\n",
       "       [ 71.44869018, 102.39501801,  89.12290444, 104.83631621],\n",
       "       [ 61.81203771,  85.45035403,  91.06585874,  98.7955244 ],\n",
       "       [ 68.9832985 ,  83.10433147,  86.67688522, 100.71221112],\n",
       "       [ 63.13365881, 112.29946652, 111.70136698, 124.66749231],\n",
       "       [ 66.37255125, 107.20465721, 115.92074023, 108.66984403],\n",
       "       [ 60.09006771,  88.37145845,  75.71779751,  89.82638873],\n",
       "       [ 77.43732647,  99.46336797, 101.80907599,  93.86010315],\n",
       "       [ 61.09773904,  97.3421858 ,  89.97113567, 110.37834249],\n",
       "       [ 63.54648048, 100.46119395,  74.33121813,  91.13443834]])"
      ]
     },
     "execution_count": 41,
     "metadata": {},
     "output_type": "execute_result"
    }
   ],
   "source": [
    "X_np"
   ]
  },
  {
   "cell_type": "markdown",
   "metadata": {},
   "source": [
    "Notice how the default behavior of numpy.ndarray.mean differs.\n",
    "- By default, the mean is calculated for all values in the rows and columns.  You get a single mean for the entire 2D array.\n",
    "- To explicitly calculate the mean for each column separately, you can set axis=0."
   ]
  },
  {
   "cell_type": "markdown",
   "metadata": {},
   "source": [
    "### Question\n",
    "If you know that you want to calculate the mean for each column, how will you choose to call the .mean function if you want this to work for both pandas DataFrames and numpy arrays?"
   ]
  },
  {
   "cell_type": "markdown",
   "metadata": {},
   "source": [
    "### This is the end of this practice section.\n",
    "\n",
    "Please continue on with the lecture videos!\n",
    "\n",
    "---"
   ]
  }
 ],
 "metadata": {
  "kernelspec": {
   "display_name": "Python 3",
   "language": "python",
   "name": "python3"
  },
  "language_info": {
   "codemirror_mode": {
    "name": "ipython",
    "version": 3
   },
   "file_extension": ".py",
   "mimetype": "text/x-python",
   "name": "python",
   "nbconvert_exporter": "python",
   "pygments_lexer": "ipython3",
   "version": "3.6.2"
  }
 },
 "nbformat": 4,
 "nbformat_minor": 4
}
