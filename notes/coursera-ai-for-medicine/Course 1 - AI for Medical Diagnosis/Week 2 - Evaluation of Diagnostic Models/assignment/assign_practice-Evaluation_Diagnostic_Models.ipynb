{
 "cells": [
  {
   "cell_type": "markdown",
   "metadata": {
    "colab_type": "text",
    "id": "QlXysl_ngZZp"
   },
   "source": [
    "# Evaluation of Diagnostic Models\n",
    "\n",
    "Welcome to the second assignment of course 1. In this assignment, we will be working with the results of the X-ray classification model we developed in the previous assignment. In order to make the data processing a bit more manageable, we will be working with a subset of our training, and validation datasets. We will also use our manually labeled test dataset of 420 X-rays.  \n",
    "\n",
    "As a reminder, our dataset contains X-rays from 14 different conditions diagnosable from an X-ray. We'll evaluate our performance on each of these classes using the classification metrics we learned in lecture."
   ]
  },
  {
   "cell_type": "markdown",
   "metadata": {},
   "source": [
    "## Outline\n",
    "Click on these links to jump to a particular section of this assignment!\n",
    "- [1. Packages](#1)\n",
    "- [2. Overview](#2)\n",
    "- [3. Metrics](#3)\n",
    "    - [3.1 True Positives, False Positives, True Negatives, and False Negatives](#3-1)\n",
    "    - [3.2 Accuracy](#3-2)\n",
    "    - [3.3 Prevalence](#3-3)\n",
    "    - [3.4 Sensitivity and Specificity](#3-4)\n",
    "    - [3.5 PPV and NPV](#3-5)\n",
    "    - [3.6 ROC Curve](#3-6)\n",
    "- [4. Confidence Intervals](#4)\n",
    "- [5. Precision-Recall Curve](#5)\n",
    "- [6. F1 Score](#6)\n",
    "- [7. Calibration](#7)"
   ]
  },
  {
   "cell_type": "markdown",
   "metadata": {
    "colab_type": "text",
    "id": "Gfe98JLFgZZr"
   },
   "source": [
    "**By the end of this assignment you will learn about:**\n",
    "\n",
    "1. Accuracy\n",
    "1. Prevalence\n",
    "1. Specificity & Sensitivity\n",
    "1. PPV and NPV\n",
    "1. ROC curve and AUCROC (c-statistic)\n",
    "1. Confidence Intervals"
   ]
  },
  {
   "cell_type": "markdown",
   "metadata": {
    "colab_type": "text",
    "id": "b5NoHyStKFQg"
   },
   "source": [
    "<a name='1'></a>\n",
    "## 1. Packages\n",
    "\n",
    "In this assignment, we'll make use of the following packages:\n",
    "- [numpy](https://docs.scipy.org/doc/numpy/) is a popular library for scientific computing\n",
    "- [matplotlib](https://matplotlib.org/3.1.1/contents.html) is a plotting library compatible with numpy\n",
    "- [pandas](https://pandas.pydata.org/docs/) is what we'll use to manipulate our data\n",
    "- [sklearn](https://scikit-learn.org/stable/index.html) will be used to measure the performance of our model\n",
    "\n",
    "\n",
    "Run the next cell to import all the necessary packages as well as custom util functions."
   ]
  },
  {
   "cell_type": "code",
   "execution_count": 31,
   "metadata": {
    "colab": {},
    "colab_type": "code",
    "id": "1RH6wvaDgZZk"
   },
   "outputs": [],
   "source": [
    "import numpy as np\n",
    "import matplotlib.pyplot as plt \n",
    "import pandas as pd  \n",
    "\n",
    "import util"
   ]
  },
  {
   "cell_type": "markdown",
   "metadata": {
    "colab_type": "text",
    "id": "GA-7EX2vNmpX"
   },
   "source": [
    "<a name='2'></a>\n",
    "## 2. Overview\n",
    "\n",
    "We'll go through our evaluation metrics in the following order.\n",
    "\n",
    "- Metrics\n",
    "  - TP, TN, FP, FN\n",
    "  - Accuracy\n",
    "  - Prevalence\n",
    "  - Sensitivity and Specificity\n",
    "  - PPV and NPV\n",
    "  - AUC\n",
    "- Confidence Intervals"
   ]
  },
  {
   "cell_type": "markdown",
   "metadata": {
    "colab_type": "text",
    "id": "8V8WFFMRgZZs"
   },
   "source": [
    "Let's take a quick peek at our dataset. The data is stored in two CSV files called `train_preds.csv` and `valid_preds.csv`. We have precomputed the model outputs for our test cases. We'll work with these predictions and the true class labels throughout the assignment."
   ]
  },
  {
   "cell_type": "code",
   "execution_count": 32,
   "metadata": {
    "colab": {},
    "colab_type": "code",
    "id": "-W1mQ0j_gZZs"
   },
   "outputs": [],
   "source": [
    "train_results = pd.read_csv(\"train_preds.csv\")\n",
    "valid_results = pd.read_csv(\"valid_preds.csv\")\n",
    "\n",
    "# the labels in our dataset\n",
    "class_labels = ['Cardiomegaly',\n",
    " 'Emphysema',\n",
    " 'Effusion',\n",
    " 'Hernia',\n",
    " 'Infiltration',\n",
    " 'Mass',\n",
    " 'Nodule',\n",
    " 'Atelectasis',\n",
    " 'Pneumothorax',\n",
    " 'Pleural_Thickening',\n",
    " 'Pneumonia',\n",
    " 'Fibrosis',\n",
    " 'Edema',\n",
    " 'Consolidation']\n",
    "\n",
    "# the labels for prediction values in our dataset\n",
    "pred_labels = [l + \"_pred\" for l in class_labels]"
   ]
  },
  {
   "cell_type": "markdown",
   "metadata": {
    "colab_type": "text",
    "id": "9XoFEIaT3dPR"
   },
   "source": [
    "Extract the labels (y) and the predictions (pred)."
   ]
  },
  {
   "cell_type": "code",
   "execution_count": 33,
   "metadata": {
    "colab": {},
    "colab_type": "code",
    "id": "5ts82yadgZZw"
   },
   "outputs": [],
   "source": [
    "y = valid_results[class_labels].values\n",
    "pred = valid_results[pred_labels].values"
   ]
  },
  {
   "cell_type": "markdown",
   "metadata": {
    "colab_type": "text",
    "id": "ZCgrMdcH3iyK"
   },
   "source": [
    "Run the next cell to view them side by side."
   ]
  },
  {
   "cell_type": "code",
   "execution_count": 34,
   "metadata": {
    "colab": {
     "base_uri": "https://localhost:8080/",
     "height": 224
    },
    "colab_type": "code",
    "id": "N6Lp19_k3h_j",
    "outputId": "f521ab94-fb5d-4ba6-e8e4-8b0a0ca22863"
   },
   "outputs": [
    {
     "data": {
      "text/html": [
       "<div>\n",
       "<style scoped>\n",
       "    .dataframe tbody tr th:only-of-type {\n",
       "        vertical-align: middle;\n",
       "    }\n",
       "\n",
       "    .dataframe tbody tr th {\n",
       "        vertical-align: top;\n",
       "    }\n",
       "\n",
       "    .dataframe thead th {\n",
       "        text-align: right;\n",
       "    }\n",
       "</style>\n",
       "<table border=\"1\" class=\"dataframe\">\n",
       "  <thead>\n",
       "    <tr style=\"text-align: right;\">\n",
       "      <th></th>\n",
       "      <th>Cardiomegaly</th>\n",
       "      <th>Emphysema</th>\n",
       "      <th>Effusion</th>\n",
       "      <th>Hernia</th>\n",
       "      <th>Infiltration</th>\n",
       "      <th>Mass</th>\n",
       "      <th>Nodule</th>\n",
       "      <th>Atelectasis</th>\n",
       "      <th>Pneumothorax</th>\n",
       "      <th>Pleural_Thickening</th>\n",
       "      <th>...</th>\n",
       "      <th>Infiltration_pred</th>\n",
       "      <th>Mass_pred</th>\n",
       "      <th>Nodule_pred</th>\n",
       "      <th>Atelectasis_pred</th>\n",
       "      <th>Pneumothorax_pred</th>\n",
       "      <th>Pleural_Thickening_pred</th>\n",
       "      <th>Pneumonia_pred</th>\n",
       "      <th>Fibrosis_pred</th>\n",
       "      <th>Edema_pred</th>\n",
       "      <th>Consolidation_pred</th>\n",
       "    </tr>\n",
       "  </thead>\n",
       "  <tbody>\n",
       "    <tr>\n",
       "      <th>0</th>\n",
       "      <td>0</td>\n",
       "      <td>0</td>\n",
       "      <td>0</td>\n",
       "      <td>0</td>\n",
       "      <td>0</td>\n",
       "      <td>0</td>\n",
       "      <td>0</td>\n",
       "      <td>0</td>\n",
       "      <td>0</td>\n",
       "      <td>0</td>\n",
       "      <td>...</td>\n",
       "      <td>0.256020</td>\n",
       "      <td>0.266928</td>\n",
       "      <td>0.312440</td>\n",
       "      <td>0.460342</td>\n",
       "      <td>0.079453</td>\n",
       "      <td>0.271495</td>\n",
       "      <td>0.276861</td>\n",
       "      <td>0.398799</td>\n",
       "      <td>0.015867</td>\n",
       "      <td>0.156320</td>\n",
       "    </tr>\n",
       "    <tr>\n",
       "      <th>1</th>\n",
       "      <td>0</td>\n",
       "      <td>0</td>\n",
       "      <td>0</td>\n",
       "      <td>0</td>\n",
       "      <td>1</td>\n",
       "      <td>0</td>\n",
       "      <td>1</td>\n",
       "      <td>0</td>\n",
       "      <td>0</td>\n",
       "      <td>0</td>\n",
       "      <td>...</td>\n",
       "      <td>0.382199</td>\n",
       "      <td>0.176825</td>\n",
       "      <td>0.465807</td>\n",
       "      <td>0.489424</td>\n",
       "      <td>0.084595</td>\n",
       "      <td>0.377318</td>\n",
       "      <td>0.363582</td>\n",
       "      <td>0.638024</td>\n",
       "      <td>0.025948</td>\n",
       "      <td>0.144419</td>\n",
       "    </tr>\n",
       "    <tr>\n",
       "      <th>2</th>\n",
       "      <td>0</td>\n",
       "      <td>0</td>\n",
       "      <td>0</td>\n",
       "      <td>0</td>\n",
       "      <td>0</td>\n",
       "      <td>0</td>\n",
       "      <td>0</td>\n",
       "      <td>0</td>\n",
       "      <td>0</td>\n",
       "      <td>0</td>\n",
       "      <td>...</td>\n",
       "      <td>0.427727</td>\n",
       "      <td>0.115513</td>\n",
       "      <td>0.249030</td>\n",
       "      <td>0.035105</td>\n",
       "      <td>0.238761</td>\n",
       "      <td>0.167095</td>\n",
       "      <td>0.166389</td>\n",
       "      <td>0.262463</td>\n",
       "      <td>0.007758</td>\n",
       "      <td>0.125790</td>\n",
       "    </tr>\n",
       "    <tr>\n",
       "      <th>3</th>\n",
       "      <td>0</td>\n",
       "      <td>0</td>\n",
       "      <td>0</td>\n",
       "      <td>0</td>\n",
       "      <td>0</td>\n",
       "      <td>0</td>\n",
       "      <td>0</td>\n",
       "      <td>0</td>\n",
       "      <td>0</td>\n",
       "      <td>0</td>\n",
       "      <td>...</td>\n",
       "      <td>0.158596</td>\n",
       "      <td>0.259460</td>\n",
       "      <td>0.334870</td>\n",
       "      <td>0.266489</td>\n",
       "      <td>0.073371</td>\n",
       "      <td>0.229834</td>\n",
       "      <td>0.191281</td>\n",
       "      <td>0.344348</td>\n",
       "      <td>0.008559</td>\n",
       "      <td>0.119153</td>\n",
       "    </tr>\n",
       "    <tr>\n",
       "      <th>4</th>\n",
       "      <td>0</td>\n",
       "      <td>0</td>\n",
       "      <td>0</td>\n",
       "      <td>0</td>\n",
       "      <td>0</td>\n",
       "      <td>0</td>\n",
       "      <td>0</td>\n",
       "      <td>0</td>\n",
       "      <td>0</td>\n",
       "      <td>0</td>\n",
       "      <td>...</td>\n",
       "      <td>0.536762</td>\n",
       "      <td>0.198797</td>\n",
       "      <td>0.273110</td>\n",
       "      <td>0.186771</td>\n",
       "      <td>0.242122</td>\n",
       "      <td>0.309786</td>\n",
       "      <td>0.411771</td>\n",
       "      <td>0.244666</td>\n",
       "      <td>0.126930</td>\n",
       "      <td>0.342409</td>\n",
       "    </tr>\n",
       "  </tbody>\n",
       "</table>\n",
       "<p>5 rows × 28 columns</p>\n",
       "</div>"
      ],
      "text/plain": [
       "   Cardiomegaly  Emphysema  Effusion  Hernia  Infiltration  Mass  Nodule  \\\n",
       "0             0          0         0       0             0     0       0   \n",
       "1             0          0         0       0             1     0       1   \n",
       "2             0          0         0       0             0     0       0   \n",
       "3             0          0         0       0             0     0       0   \n",
       "4             0          0         0       0             0     0       0   \n",
       "\n",
       "   Atelectasis  Pneumothorax  Pleural_Thickening  ...  Infiltration_pred  \\\n",
       "0            0             0                   0  ...           0.256020   \n",
       "1            0             0                   0  ...           0.382199   \n",
       "2            0             0                   0  ...           0.427727   \n",
       "3            0             0                   0  ...           0.158596   \n",
       "4            0             0                   0  ...           0.536762   \n",
       "\n",
       "   Mass_pred  Nodule_pred  Atelectasis_pred  Pneumothorax_pred  \\\n",
       "0   0.266928     0.312440          0.460342           0.079453   \n",
       "1   0.176825     0.465807          0.489424           0.084595   \n",
       "2   0.115513     0.249030          0.035105           0.238761   \n",
       "3   0.259460     0.334870          0.266489           0.073371   \n",
       "4   0.198797     0.273110          0.186771           0.242122   \n",
       "\n",
       "   Pleural_Thickening_pred  Pneumonia_pred  Fibrosis_pred  Edema_pred  \\\n",
       "0                 0.271495        0.276861       0.398799    0.015867   \n",
       "1                 0.377318        0.363582       0.638024    0.025948   \n",
       "2                 0.167095        0.166389       0.262463    0.007758   \n",
       "3                 0.229834        0.191281       0.344348    0.008559   \n",
       "4                 0.309786        0.411771       0.244666    0.126930   \n",
       "\n",
       "   Consolidation_pred  \n",
       "0            0.156320  \n",
       "1            0.144419  \n",
       "2            0.125790  \n",
       "3            0.119153  \n",
       "4            0.342409  \n",
       "\n",
       "[5 rows x 28 columns]"
      ]
     },
     "execution_count": 34,
     "metadata": {},
     "output_type": "execute_result"
    }
   ],
   "source": [
    "# let's take a peek at our dataset\n",
    "valid_results[np.concatenate([class_labels, pred_labels])].head()"
   ]
  },
  {
   "cell_type": "markdown",
   "metadata": {
    "colab_type": "text",
    "id": "BktRP8PzgZZz"
   },
   "source": [
    "To further understand our dataset details, here's a histogram of the number of samples for each label in the validation dataset:"
   ]
  },
  {
   "cell_type": "code",
   "execution_count": 35,
   "metadata": {
    "colab": {
     "base_uri": "https://localhost:8080/",
     "height": 369
    },
    "colab_type": "code",
    "id": "7rrtjgiKgZZ0",
    "outputId": "3780bec9-f9da-4e6f-a775-35db3c91af45"
   },
   "outputs": [
    {
     "data": {
      "image/png": "[encoded data removed]",
      "text/plain": [
       "<Figure size 432x288 with 1 Axes>"
      ]
     },
     "metadata": {
      "needs_background": "light"
     },
     "output_type": "display_data"
    }
   ],
   "source": [
    "plt.xticks(rotation=90)\n",
    "plt.bar(x = class_labels, height= y.sum(axis=0));"
   ]
  },
  {
   "cell_type": "markdown",
   "metadata": {
    "colab_type": "text",
    "id": "WMbrDZTfOQ_t"
   },
   "source": [
    "It seem like our dataset has an imbalanced population of samples. Specifically, our dataset has a small number of patients diagnosed with a `Hernia`."
   ]
  },
  {
   "cell_type": "markdown",
   "metadata": {
    "colab_type": "text",
    "id": "MaBE2BeVOU-d"
   },
   "source": [
    "<a name='3'></a>\n",
    "## 3 Metrics"
   ]
  },
  {
   "cell_type": "markdown",
   "metadata": {
    "colab_type": "text",
    "id": "ZqCKzNTLvVc6"
   },
   "source": [
    "<a name='3-1'></a>\n",
    "### 3.1 True Positives, False Positives, True Negatives, and False Negatives\n",
    "\n",
    "The most basic statistics to compute from the model predictions are the true positives, true negatives, false positives, and false negatives. \n",
    "\n",
    "As the name suggests\n",
    "- true positive (TP): The model classifies the example as positive, and the actual label also positive.\n",
    "- false positive (FP): The model classifies the example as positive, **but** the actual label is negative.\n",
    "- true negative (TN): The model classifies the example as negative, and the actual label is also negative.\n",
    "- false negative (FN): The model classifies the example as negative, **but** the label is actually positive.\n",
    "\n",
    "We will count the number of TP, FP, TN and FN in the given data.  All of our metrics can be built off of these four statistics. \n",
    "\n",
    "Recall that the model outputs real numbers between 0 and 1.\n",
    "* To compute binary class predictions, we need to convert these to either 0 or 1. \n",
    "* We'll do this using a threshold value $th$.\n",
    "* Any model outputs above $th$ are set to 1, and below $th$ are set to 0. \n",
    "\n",
    "All of our metrics (except for AUC at the end) will depend on the choice of this threshold. \n",
    "\n",
    "Fill in the functions to compute the TP, FP, TN, and FN for a given threshold below. \n",
    "\n",
    "The first one has been done for you."
   ]
  },
  {
   "cell_type": "code",
   "execution_count": 36,
   "metadata": {
    "colab": {},
    "colab_type": "code",
    "id": "6epwT5HJwAQb"
   },
   "outputs": [],
   "source": [
    "# UNQ_C1 (UNIQUE CELL IDENTIFIER, DO NOT EDIT)\n",
    "def true_positives(y, pred, th=0.5):\n",
    "    \"\"\"\n",
    "    Count true positives.\n",
    "\n",
    "    Args:\n",
    "        y (np.array): ground truth, size (n_examples)\n",
    "        pred (np.array): model output, size (n_examples)\n",
    "        th (float): cutoff value for positive prediction from model\n",
    "    Returns:\n",
    "        TP (int): true positives\n",
    "    \"\"\"\n",
    "    TP = 0\n",
    "    \n",
    "    # get thresholded predictions\n",
    "    thresholded_preds = pred > th\n",
    "    \n",
    "    # compute TP    \n",
    "    TP = np.sum((y == 1) & (thresholded_preds == 1))\n",
    "   \n",
    "    return TP\n",
    "\n",
    "def true_negatives(y, pred, th=0.5):\n",
    "    \"\"\"\n",
    "    Count true negatives.\n",
    "\n",
    "    Args:\n",
    "        y (np.array): ground truth, size (n_examples)\n",
    "        pred (np.array): model output, size (n_examples)\n",
    "        th (float): cutoff value for positive prediction from model\n",
    "    Returns:\n",
    "        TN (int): true negatives\n",
    "    \"\"\"\n",
    "    TN = 0\n",
    "\n",
    "    # get thresholded predictions\n",
    "    thresholded_preds = pred > th\n",
    "\n",
    "    ### START CODE HERE (REPLACE INSTANCES OF 'None' with your code) ###\n",
    "    \n",
    "    # compute TN\n",
    "    TN = np.sum((y == 0) & (thresholded_preds == 0))\n",
    "    \n",
    "    ### END CODE HERE ###\n",
    "    \n",
    "    return TN\n",
    "\n",
    "def false_positives(y, pred, th=0.5):\n",
    "    \"\"\"\n",
    "    Count false positives.\n",
    "\n",
    "    Args:\n",
    "        y (np.array): ground truth, size (n_examples)\n",
    "        pred (np.array): model output, size (n_examples)\n",
    "        th (float): cutoff value for positive prediction from model\n",
    "    Returns:\n",
    "        FP (int): false positives\n",
    "    \"\"\"\n",
    "    FP = 0\n",
    "\n",
    "    # get thresholded predictions\n",
    "    thresholded_preds = pred > th\n",
    "\n",
    "    ### START CODE HERE (REPLACE INSTANCES OF 'None' with your code) ###\n",
    "\n",
    "    # compute FP\n",
    "    FP = np.sum((y == 1) & (thresholded_preds == 0))\n",
    "    \n",
    "    ### END CODE HERE ###\n",
    "    \n",
    "    return FP\n",
    "\n",
    "def false_negatives(y, pred, th=0.5):\n",
    "    \"\"\"\n",
    "    Count false positives.\n",
    "\n",
    "    Args:\n",
    "        y (np.array): ground truth, size (n_examples)\n",
    "        pred (np.array): model output, size (n_examples)\n",
    "        th (float): cutoff value for positive prediction from model\n",
    "    Returns:\n",
    "        FN (int): false negatives\n",
    "    \"\"\"\n",
    "    FN = 0\n",
    "\n",
    "    # get thresholded predictions\n",
    "    thresholded_preds = pred > th\n",
    "\n",
    "    ### START CODE HERE (REPLACE INSTANCES OF 'None' with your code) ###\n",
    "    \n",
    "    # compute FN\n",
    "    FN = np.sum((y == 0) & (thresholded_preds == 1))\n",
    "    \n",
    "    ### END CODE HERE ###\n",
    "    \n",
    "    return FN"
   ]
  },
  {
   "cell_type": "code",
   "execution_count": 25,
   "metadata": {
    "colab": {
     "base_uri": "https://localhost:8080/",
     "height": 187
    },
    "colab_type": "code",
    "id": "ORgq9Y_FyDhF",
    "outputId": "acc0073e-17b3-458f-cdda-f99a26ac1b02"
   },
   "outputs": [
    {
     "data": {
      "text/html": [
       "<div>\n",
       "<style scoped>\n",
       "    .dataframe tbody tr th:only-of-type {\n",
       "        vertical-align: middle;\n",
       "    }\n",
       "\n",
       "    .dataframe tbody tr th {\n",
       "        vertical-align: top;\n",
       "    }\n",
       "\n",
       "    .dataframe thead th {\n",
       "        text-align: right;\n",
       "    }\n",
       "</style>\n",
       "<table border=\"1\" class=\"dataframe\">\n",
       "  <thead>\n",
       "    <tr style=\"text-align: right;\">\n",
       "      <th></th>\n",
       "      <th>y_test</th>\n",
       "      <th>preds_test</th>\n",
       "      <th>category</th>\n",
       "    </tr>\n",
       "  </thead>\n",
       "  <tbody>\n",
       "    <tr>\n",
       "      <th>0</th>\n",
       "      <td>1</td>\n",
       "      <td>0.8</td>\n",
       "      <td>TP</td>\n",
       "    </tr>\n",
       "    <tr>\n",
       "      <th>1</th>\n",
       "      <td>1</td>\n",
       "      <td>0.7</td>\n",
       "      <td>TP</td>\n",
       "    </tr>\n",
       "    <tr>\n",
       "      <th>2</th>\n",
       "      <td>0</td>\n",
       "      <td>0.4</td>\n",
       "      <td>TN</td>\n",
       "    </tr>\n",
       "    <tr>\n",
       "      <th>3</th>\n",
       "      <td>0</td>\n",
       "      <td>0.3</td>\n",
       "      <td>TN</td>\n",
       "    </tr>\n",
       "    <tr>\n",
       "      <th>4</th>\n",
       "      <td>0</td>\n",
       "      <td>0.2</td>\n",
       "      <td>TN</td>\n",
       "    </tr>\n",
       "    <tr>\n",
       "      <th>5</th>\n",
       "      <td>0</td>\n",
       "      <td>0.5</td>\n",
       "      <td>FP</td>\n",
       "    </tr>\n",
       "    <tr>\n",
       "      <th>6</th>\n",
       "      <td>0</td>\n",
       "      <td>0.6</td>\n",
       "      <td>FP</td>\n",
       "    </tr>\n",
       "    <tr>\n",
       "      <th>7</th>\n",
       "      <td>0</td>\n",
       "      <td>0.7</td>\n",
       "      <td>FP</td>\n",
       "    </tr>\n",
       "    <tr>\n",
       "      <th>8</th>\n",
       "      <td>0</td>\n",
       "      <td>0.8</td>\n",
       "      <td>FP</td>\n",
       "    </tr>\n",
       "    <tr>\n",
       "      <th>9</th>\n",
       "      <td>1</td>\n",
       "      <td>0.1</td>\n",
       "      <td>FN</td>\n",
       "    </tr>\n",
       "    <tr>\n",
       "      <th>10</th>\n",
       "      <td>1</td>\n",
       "      <td>0.2</td>\n",
       "      <td>FN</td>\n",
       "    </tr>\n",
       "    <tr>\n",
       "      <th>11</th>\n",
       "      <td>1</td>\n",
       "      <td>0.3</td>\n",
       "      <td>FN</td>\n",
       "    </tr>\n",
       "    <tr>\n",
       "      <th>12</th>\n",
       "      <td>1</td>\n",
       "      <td>0.4</td>\n",
       "      <td>FN</td>\n",
       "    </tr>\n",
       "    <tr>\n",
       "      <th>13</th>\n",
       "      <td>1</td>\n",
       "      <td>0.0</td>\n",
       "      <td>FN</td>\n",
       "    </tr>\n",
       "  </tbody>\n",
       "</table>\n",
       "</div>"
      ],
      "text/plain": [
       "    y_test  preds_test category\n",
       "0        1         0.8       TP\n",
       "1        1         0.7       TP\n",
       "2        0         0.4       TN\n",
       "3        0         0.3       TN\n",
       "4        0         0.2       TN\n",
       "5        0         0.5       FP\n",
       "6        0         0.6       FP\n",
       "7        0         0.7       FP\n",
       "8        0         0.8       FP\n",
       "9        1         0.1       FN\n",
       "10       1         0.2       FN\n",
       "11       1         0.3       FN\n",
       "12       1         0.4       FN\n",
       "13       1         0.0       FN"
      ]
     },
     "metadata": {},
     "output_type": "display_data"
    },
    {
     "name": "stdout",
     "output_type": "stream",
     "text": [
      "threshold: 0.5\n",
      "\n",
      "Our functions calculated: \n",
      "TP: 2\n",
      "TN: 4\n",
      "FP: 5\n",
      "FN: 3\n",
      "\n",
      "Expected results\n",
      "There are 2 TP\n",
      "There are 3 TN\n",
      "There are 4 FP\n",
      "There are 5 FN\n"
     ]
    }
   ],
   "source": [
    "# Note: we must explicity import 'display' in order for the autograder to compile the submitted code\n",
    "# Even though we could use this function without importing it, keep this import in order to allow the grader to work\n",
    "from IPython.display import display\n",
    "# Test\n",
    "df = pd.DataFrame({'y_test': [1,1,0,0,0,0,0,0,0,1,1,1,1,1],\n",
    "                   'preds_test': [0.8,0.7,0.4,0.3,0.2,0.5,0.6,0.7,0.8,0.1,0.2,0.3,0.4,0],\n",
    "                   'category': ['TP','TP','TN','TN','TN','FP','FP','FP','FP','FN','FN','FN','FN','FN']\n",
    "                  })\n",
    "\n",
    "display(df)\n",
    "#y_test = np.array([1, 0, 0, 1, 1])\n",
    "y_test = df['y_test']\n",
    "\n",
    "#preds_test = np.array([0.8, 0.8, 0.4, 0.6, 0.3])\n",
    "preds_test = df['preds_test']\n",
    "\n",
    "threshold = 0.5\n",
    "print(f\"threshold: {threshold}\\n\")\n",
    "\n",
    "print(f\"\"\"Our functions calculated: \n",
    "TP: {true_positives(y_test, preds_test, threshold)}\n",
    "TN: {true_negatives(y_test, preds_test, threshold)}\n",
    "FP: {false_positives(y_test, preds_test, threshold)}\n",
    "FN: {false_negatives(y_test, preds_test, threshold)}\n",
    "\"\"\")\n",
    "\n",
    "print(\"Expected results\")\n",
    "print(f\"There are {sum(df['category'] == 'TP')} TP\")\n",
    "print(f\"There are {sum(df['category'] == 'TN')} TN\")\n",
    "print(f\"There are {sum(df['category'] == 'FP')} FP\")\n",
    "print(f\"There are {sum(df['category'] == 'FN')} FN\")"
   ]
  },
  {
   "cell_type": "markdown",
   "metadata": {
    "colab_type": "text",
    "id": "yz0x1BdhyuUN"
   },
   "source": [
    "Run the next cell to see a summary of evaluative metrics for the model predictions for each class. "
   ]
  },
  {
   "cell_type": "code",
   "execution_count": 26,
   "metadata": {
    "colab": {
     "base_uri": "https://localhost:8080/",
     "height": 497
    },
    "colab_type": "code",
    "id": "E6u3eoNCy1LU",
    "outputId": "52807e22-3463-46f8-c03b-92097b10ae0d"
   },
   "outputs": [
    {
     "data": {
      "text/html": [
       "<div>\n",
       "<style scoped>\n",
       "    .dataframe tbody tr th:only-of-type {\n",
       "        vertical-align: middle;\n",
       "    }\n",
       "\n",
       "    .dataframe tbody tr th {\n",
       "        vertical-align: top;\n",
       "    }\n",
       "\n",
       "    .dataframe thead th {\n",
       "        text-align: right;\n",
       "    }\n",
       "</style>\n",
       "<table border=\"1\" class=\"dataframe\">\n",
       "  <thead>\n",
       "    <tr style=\"text-align: right;\">\n",
       "      <th></th>\n",
       "      <th>TP</th>\n",
       "      <th>TN</th>\n",
       "      <th>FP</th>\n",
       "      <th>FN</th>\n",
       "      <th>Accuracy</th>\n",
       "      <th>Prevalence</th>\n",
       "      <th>Sensitivity</th>\n",
       "      <th>Specificity</th>\n",
       "      <th>PPV</th>\n",
       "      <th>NPV</th>\n",
       "      <th>AUC</th>\n",
       "      <th>F1</th>\n",
       "      <th>Threshold</th>\n",
       "    </tr>\n",
       "    <tr>\n",
       "      <th></th>\n",
       "      <th></th>\n",
       "      <th></th>\n",
       "      <th></th>\n",
       "      <th></th>\n",
       "      <th></th>\n",
       "      <th></th>\n",
       "      <th></th>\n",
       "      <th></th>\n",
       "      <th></th>\n",
       "      <th></th>\n",
       "      <th></th>\n",
       "      <th></th>\n",
       "      <th></th>\n",
       "    </tr>\n",
       "  </thead>\n",
       "  <tbody>\n",
       "    <tr>\n",
       "      <th>Cardiomegaly</th>\n",
       "      <td>16</td>\n",
       "      <td>814</td>\n",
       "      <td>169</td>\n",
       "      <td>1</td>\n",
       "      <td>Not Defined</td>\n",
       "      <td>Not Defined</td>\n",
       "      <td>Not Defined</td>\n",
       "      <td>Not Defined</td>\n",
       "      <td>Not Defined</td>\n",
       "      <td>Not Defined</td>\n",
       "      <td>Not Defined</td>\n",
       "      <td>Not Defined</td>\n",
       "      <td>0.5</td>\n",
       "    </tr>\n",
       "    <tr>\n",
       "      <th>Emphysema</th>\n",
       "      <td>20</td>\n",
       "      <td>869</td>\n",
       "      <td>103</td>\n",
       "      <td>8</td>\n",
       "      <td>Not Defined</td>\n",
       "      <td>Not Defined</td>\n",
       "      <td>Not Defined</td>\n",
       "      <td>Not Defined</td>\n",
       "      <td>Not Defined</td>\n",
       "      <td>Not Defined</td>\n",
       "      <td>Not Defined</td>\n",
       "      <td>Not Defined</td>\n",
       "      <td>0.5</td>\n",
       "    </tr>\n",
       "    <tr>\n",
       "      <th>Effusion</th>\n",
       "      <td>99</td>\n",
       "      <td>690</td>\n",
       "      <td>196</td>\n",
       "      <td>15</td>\n",
       "      <td>Not Defined</td>\n",
       "      <td>Not Defined</td>\n",
       "      <td>Not Defined</td>\n",
       "      <td>Not Defined</td>\n",
       "      <td>Not Defined</td>\n",
       "      <td>Not Defined</td>\n",
       "      <td>Not Defined</td>\n",
       "      <td>Not Defined</td>\n",
       "      <td>0.5</td>\n",
       "    </tr>\n",
       "    <tr>\n",
       "      <th>Hernia</th>\n",
       "      <td>1</td>\n",
       "      <td>743</td>\n",
       "      <td>255</td>\n",
       "      <td>1</td>\n",
       "      <td>Not Defined</td>\n",
       "      <td>Not Defined</td>\n",
       "      <td>Not Defined</td>\n",
       "      <td>Not Defined</td>\n",
       "      <td>Not Defined</td>\n",
       "      <td>Not Defined</td>\n",
       "      <td>Not Defined</td>\n",
       "      <td>Not Defined</td>\n",
       "      <td>0.5</td>\n",
       "    </tr>\n",
       "    <tr>\n",
       "      <th>Infiltration</th>\n",
       "      <td>114</td>\n",
       "      <td>543</td>\n",
       "      <td>265</td>\n",
       "      <td>78</td>\n",
       "      <td>Not Defined</td>\n",
       "      <td>Not Defined</td>\n",
       "      <td>Not Defined</td>\n",
       "      <td>Not Defined</td>\n",
       "      <td>Not Defined</td>\n",
       "      <td>Not Defined</td>\n",
       "      <td>Not Defined</td>\n",
       "      <td>Not Defined</td>\n",
       "      <td>0.5</td>\n",
       "    </tr>\n",
       "    <tr>\n",
       "      <th>Mass</th>\n",
       "      <td>40</td>\n",
       "      <td>789</td>\n",
       "      <td>158</td>\n",
       "      <td>13</td>\n",
       "      <td>Not Defined</td>\n",
       "      <td>Not Defined</td>\n",
       "      <td>Not Defined</td>\n",
       "      <td>Not Defined</td>\n",
       "      <td>Not Defined</td>\n",
       "      <td>Not Defined</td>\n",
       "      <td>Not Defined</td>\n",
       "      <td>Not Defined</td>\n",
       "      <td>0.5</td>\n",
       "    </tr>\n",
       "    <tr>\n",
       "      <th>Nodule</th>\n",
       "      <td>28</td>\n",
       "      <td>731</td>\n",
       "      <td>220</td>\n",
       "      <td>21</td>\n",
       "      <td>Not Defined</td>\n",
       "      <td>Not Defined</td>\n",
       "      <td>Not Defined</td>\n",
       "      <td>Not Defined</td>\n",
       "      <td>Not Defined</td>\n",
       "      <td>Not Defined</td>\n",
       "      <td>Not Defined</td>\n",
       "      <td>Not Defined</td>\n",
       "      <td>0.5</td>\n",
       "    </tr>\n",
       "    <tr>\n",
       "      <th>Atelectasis</th>\n",
       "      <td>64</td>\n",
       "      <td>657</td>\n",
       "      <td>249</td>\n",
       "      <td>30</td>\n",
       "      <td>Not Defined</td>\n",
       "      <td>Not Defined</td>\n",
       "      <td>Not Defined</td>\n",
       "      <td>Not Defined</td>\n",
       "      <td>Not Defined</td>\n",
       "      <td>Not Defined</td>\n",
       "      <td>Not Defined</td>\n",
       "      <td>Not Defined</td>\n",
       "      <td>0.5</td>\n",
       "    </tr>\n",
       "    <tr>\n",
       "      <th>Pneumothorax</th>\n",
       "      <td>24</td>\n",
       "      <td>785</td>\n",
       "      <td>183</td>\n",
       "      <td>8</td>\n",
       "      <td>Not Defined</td>\n",
       "      <td>Not Defined</td>\n",
       "      <td>Not Defined</td>\n",
       "      <td>Not Defined</td>\n",
       "      <td>Not Defined</td>\n",
       "      <td>Not Defined</td>\n",
       "      <td>Not Defined</td>\n",
       "      <td>Not Defined</td>\n",
       "      <td>0.5</td>\n",
       "    </tr>\n",
       "    <tr>\n",
       "      <th>Pleural_Thickening</th>\n",
       "      <td>24</td>\n",
       "      <td>713</td>\n",
       "      <td>259</td>\n",
       "      <td>4</td>\n",
       "      <td>Not Defined</td>\n",
       "      <td>Not Defined</td>\n",
       "      <td>Not Defined</td>\n",
       "      <td>Not Defined</td>\n",
       "      <td>Not Defined</td>\n",
       "      <td>Not Defined</td>\n",
       "      <td>Not Defined</td>\n",
       "      <td>Not Defined</td>\n",
       "      <td>0.5</td>\n",
       "    </tr>\n",
       "    <tr>\n",
       "      <th>Pneumonia</th>\n",
       "      <td>14</td>\n",
       "      <td>661</td>\n",
       "      <td>320</td>\n",
       "      <td>5</td>\n",
       "      <td>Not Defined</td>\n",
       "      <td>Not Defined</td>\n",
       "      <td>Not Defined</td>\n",
       "      <td>Not Defined</td>\n",
       "      <td>Not Defined</td>\n",
       "      <td>Not Defined</td>\n",
       "      <td>Not Defined</td>\n",
       "      <td>Not Defined</td>\n",
       "      <td>0.5</td>\n",
       "    </tr>\n",
       "    <tr>\n",
       "      <th>Fibrosis</th>\n",
       "      <td>10</td>\n",
       "      <td>725</td>\n",
       "      <td>261</td>\n",
       "      <td>4</td>\n",
       "      <td>Not Defined</td>\n",
       "      <td>Not Defined</td>\n",
       "      <td>Not Defined</td>\n",
       "      <td>Not Defined</td>\n",
       "      <td>Not Defined</td>\n",
       "      <td>Not Defined</td>\n",
       "      <td>Not Defined</td>\n",
       "      <td>Not Defined</td>\n",
       "      <td>0.5</td>\n",
       "    </tr>\n",
       "    <tr>\n",
       "      <th>Edema</th>\n",
       "      <td>15</td>\n",
       "      <td>767</td>\n",
       "      <td>213</td>\n",
       "      <td>5</td>\n",
       "      <td>Not Defined</td>\n",
       "      <td>Not Defined</td>\n",
       "      <td>Not Defined</td>\n",
       "      <td>Not Defined</td>\n",
       "      <td>Not Defined</td>\n",
       "      <td>Not Defined</td>\n",
       "      <td>Not Defined</td>\n",
       "      <td>Not Defined</td>\n",
       "      <td>0.5</td>\n",
       "    </tr>\n",
       "    <tr>\n",
       "      <th>Consolidation</th>\n",
       "      <td>36</td>\n",
       "      <td>658</td>\n",
       "      <td>297</td>\n",
       "      <td>9</td>\n",
       "      <td>Not Defined</td>\n",
       "      <td>Not Defined</td>\n",
       "      <td>Not Defined</td>\n",
       "      <td>Not Defined</td>\n",
       "      <td>Not Defined</td>\n",
       "      <td>Not Defined</td>\n",
       "      <td>Not Defined</td>\n",
       "      <td>Not Defined</td>\n",
       "      <td>0.5</td>\n",
       "    </tr>\n",
       "  </tbody>\n",
       "</table>\n",
       "</div>"
      ],
      "text/plain": [
       "                     TP   TN   FP  FN     Accuracy   Prevalence  Sensitivity  \\\n",
       "                                                                               \n",
       "Cardiomegaly         16  814  169   1  Not Defined  Not Defined  Not Defined   \n",
       "Emphysema            20  869  103   8  Not Defined  Not Defined  Not Defined   \n",
       "Effusion             99  690  196  15  Not Defined  Not Defined  Not Defined   \n",
       "Hernia                1  743  255   1  Not Defined  Not Defined  Not Defined   \n",
       "Infiltration        114  543  265  78  Not Defined  Not Defined  Not Defined   \n",
       "Mass                 40  789  158  13  Not Defined  Not Defined  Not Defined   \n",
       "Nodule               28  731  220  21  Not Defined  Not Defined  Not Defined   \n",
       "Atelectasis          64  657  249  30  Not Defined  Not Defined  Not Defined   \n",
       "Pneumothorax         24  785  183   8  Not Defined  Not Defined  Not Defined   \n",
       "Pleural_Thickening   24  713  259   4  Not Defined  Not Defined  Not Defined   \n",
       "Pneumonia            14  661  320   5  Not Defined  Not Defined  Not Defined   \n",
       "Fibrosis             10  725  261   4  Not Defined  Not Defined  Not Defined   \n",
       "Edema                15  767  213   5  Not Defined  Not Defined  Not Defined   \n",
       "Consolidation        36  658  297   9  Not Defined  Not Defined  Not Defined   \n",
       "\n",
       "                    Specificity          PPV          NPV          AUC  \\\n",
       "                                                                         \n",
       "Cardiomegaly        Not Defined  Not Defined  Not Defined  Not Defined   \n",
       "Emphysema           Not Defined  Not Defined  Not Defined  Not Defined   \n",
       "Effusion            Not Defined  Not Defined  Not Defined  Not Defined   \n",
       "Hernia              Not Defined  Not Defined  Not Defined  Not Defined   \n",
       "Infiltration        Not Defined  Not Defined  Not Defined  Not Defined   \n",
       "Mass                Not Defined  Not Defined  Not Defined  Not Defined   \n",
       "Nodule              Not Defined  Not Defined  Not Defined  Not Defined   \n",
       "Atelectasis         Not Defined  Not Defined  Not Defined  Not Defined   \n",
       "Pneumothorax        Not Defined  Not Defined  Not Defined  Not Defined   \n",
       "Pleural_Thickening  Not Defined  Not Defined  Not Defined  Not Defined   \n",
       "Pneumonia           Not Defined  Not Defined  Not Defined  Not Defined   \n",
       "Fibrosis            Not Defined  Not Defined  Not Defined  Not Defined   \n",
       "Edema               Not Defined  Not Defined  Not Defined  Not Defined   \n",
       "Consolidation       Not Defined  Not Defined  Not Defined  Not Defined   \n",
       "\n",
       "                             F1 Threshold  \n",
       "                                           \n",
       "Cardiomegaly        Not Defined       0.5  \n",
       "Emphysema           Not Defined       0.5  \n",
       "Effusion            Not Defined       0.5  \n",
       "Hernia              Not Defined       0.5  \n",
       "Infiltration        Not Defined       0.5  \n",
       "Mass                Not Defined       0.5  \n",
       "Nodule              Not Defined       0.5  \n",
       "Atelectasis         Not Defined       0.5  \n",
       "Pneumothorax        Not Defined       0.5  \n",
       "Pleural_Thickening  Not Defined       0.5  \n",
       "Pneumonia           Not Defined       0.5  \n",
       "Fibrosis            Not Defined       0.5  \n",
       "Edema               Not Defined       0.5  \n",
       "Consolidation       Not Defined       0.5  "
      ]
     },
     "execution_count": 26,
     "metadata": {},
     "output_type": "execute_result"
    }
   ],
   "source": [
    "util.get_performance_metrics(y, pred, class_labels)"
   ]
  },
  {
   "cell_type": "markdown",
   "metadata": {
    "colab_type": "text",
    "id": "F6M_l5QNy3ux"
   },
   "source": [
    "Right now it only has TP, TN, FP, FN. Throughout this assignment we'll fill in all the other metrics to learn more about our model performance."
   ]
  },
  {
   "cell_type": "markdown",
   "metadata": {
    "colab_type": "text",
    "id": "ISy-naajOTp7"
   },
   "source": [
    "<a name='3-2'></a>\n",
    "### 3.2 Accuracy"
   ]
  },
  {
   "cell_type": "markdown",
   "metadata": {
    "colab_type": "text",
    "id": "qMNxd3IGgZZ3"
   },
   "source": [
    "\n",
    "Let's use a threshold of .5 for the probability cutoff for our predictions for all classes and calculate our model's accuracy as we would normally do in a machine learning problem. \n",
    "\n",
    "$$accuracy = \\frac{\\text{true positives} + \\text{true negatives}}{\\text{true positives} + \\text{true negatives} + \\text{false positives} + \\text{false negatives}}$$\n",
    "\n",
    "Use this formula to compute accuracy below:"
   ]
  },
  {
   "cell_type": "markdown",
   "metadata": {},
   "source": [
    "<details>    \n",
    "<summary>\n",
    "    <font size=\"3\" color=\"darkgreen\"><b>Hints</b></font>\n",
    "</summary>\n",
    "<p>\n",
    "<ul>\n",
    "    <li>Remember to set the value for the threshold when calling the functions.</li>\n",
    "</ul>\n",
    "</p>"
   ]
  },
  {
   "cell_type": "code",
   "execution_count": 27,
   "metadata": {
    "colab": {},
    "colab_type": "code",
    "id": "tcMIPS4jQbDE"
   },
   "outputs": [],
   "source": [
    "# UNQ_C2 (UNIQUE CELL IDENTIFIER, DO NOT EDIT)\n",
    "def get_accuracy(y, pred, th=0.5):\n",
    "    \"\"\"\n",
    "    Compute accuracy of predictions at threshold.\n",
    "\n",
    "    Args:\n",
    "        y (np.array): ground truth, size (n_examples)\n",
    "        pred (np.array): model output, size (n_examples)\n",
    "        th (float): cutoff value for positive prediction from model\n",
    "    Returns:\n",
    "        accuracy (float): accuracy of predictions at threshold\n",
    "    \"\"\"\n",
    "    accuracy = 0.0\n",
    "    \n",
    "    ### START CODE HERE (REPLACE INSTANCES OF 'None' with your code) ###\n",
    "    \n",
    "    # get TP, FP, TN, FN using our previously defined functions\n",
    "    TP = true_positives(y, pred, th)\n",
    "    FP = false_positives(y, pred, th)\n",
    "    TN = true_negatives(y, pred, th)\n",
    "    FN = false_negatives(y, pred, th)\n",
    "\n",
    "    # Compute accuracy using TP, FP, TN, FN\n",
    "    accuracy = (TP + TN) / (TP + TN + FP + FN)\n",
    "    \n",
    "    ### END CODE HERE ###\n",
    "    \n",
    "    return accuracy"
   ]
  },
  {
   "cell_type": "code",
   "execution_count": 28,
   "metadata": {
    "colab": {
     "base_uri": "https://localhost:8080/",
     "height": 170
    },
    "colab_type": "code",
    "id": "Sa5ypRRlRhVz",
    "outputId": "a2a37bdc-7ef4-4824-9ea2-9678f6b0ccfb"
   },
   "outputs": [
    {
     "name": "stdout",
     "output_type": "stream",
     "text": [
      "Test case:\n",
      "test labels: {y_test}\n",
      "test predictions: [0.8 0.8 0.4 0.6 0.3]\n",
      "threshold: 0.5\n",
      "computed accuracy: 0.6\n"
     ]
    }
   ],
   "source": [
    "# Test\n",
    "print(\"Test case:\")\n",
    "\n",
    "y_test = np.array([1, 0, 0, 1, 1])\n",
    "print('test labels: {y_test}')\n",
    "\n",
    "preds_test = np.array([0.8, 0.8, 0.4, 0.6, 0.3])\n",
    "print(f'test predictions: {preds_test}')\n",
    "\n",
    "threshold = 0.5\n",
    "print(f\"threshold: {threshold}\")\n",
    "\n",
    "print(f\"computed accuracy: {get_accuracy(y_test, preds_test, threshold)}\")"
   ]
  },
  {
   "cell_type": "markdown",
   "metadata": {},
   "source": [
    "#### Expected output:\n",
    "\n",
    "```Python\n",
    "test labels: {y_test}\n",
    "test predictions: [0.8 0.8 0.4 0.6 0.3]\n",
    "threshold: 0.5\n",
    "computed accuracy: 0.6\n",
    "```"
   ]
  },
  {
   "cell_type": "markdown",
   "metadata": {
    "colab_type": "text",
    "id": "GGq_9OUBu9Er"
   },
   "source": [
    "Run the next cell to see the accuracy of the model output for each class, as well as the number of true positives, true negatives, false positives, and false negatives."
   ]
  },
  {
   "cell_type": "code",
   "execution_count": 29,
   "metadata": {
    "colab": {
     "base_uri": "https://localhost:8080/",
     "height": 497
    },
    "colab_type": "code",
    "id": "wmaDXXy0gZZ7",
    "outputId": "7210644a-5bd9-4862-ca2b-4475f23e4515"
   },
   "outputs": [
    {
     "data": {
      "text/html": [
       "<div>\n",
       "<style scoped>\n",
       "    .dataframe tbody tr th:only-of-type {\n",
       "        vertical-align: middle;\n",
       "    }\n",
       "\n",
       "    .dataframe tbody tr th {\n",
       "        vertical-align: top;\n",
       "    }\n",
       "\n",
       "    .dataframe thead th {\n",
       "        text-align: right;\n",
       "    }\n",
       "</style>\n",
       "<table border=\"1\" class=\"dataframe\">\n",
       "  <thead>\n",
       "    <tr style=\"text-align: right;\">\n",
       "      <th></th>\n",
       "      <th>TP</th>\n",
       "      <th>TN</th>\n",
       "      <th>FP</th>\n",
       "      <th>FN</th>\n",
       "      <th>Accuracy</th>\n",
       "      <th>Prevalence</th>\n",
       "      <th>Sensitivity</th>\n",
       "      <th>Specificity</th>\n",
       "      <th>PPV</th>\n",
       "      <th>NPV</th>\n",
       "      <th>AUC</th>\n",
       "      <th>F1</th>\n",
       "      <th>Threshold</th>\n",
       "    </tr>\n",
       "    <tr>\n",
       "      <th></th>\n",
       "      <th></th>\n",
       "      <th></th>\n",
       "      <th></th>\n",
       "      <th></th>\n",
       "      <th></th>\n",
       "      <th></th>\n",
       "      <th></th>\n",
       "      <th></th>\n",
       "      <th></th>\n",
       "      <th></th>\n",
       "      <th></th>\n",
       "      <th></th>\n",
       "      <th></th>\n",
       "    </tr>\n",
       "  </thead>\n",
       "  <tbody>\n",
       "    <tr>\n",
       "      <th>Cardiomegaly</th>\n",
       "      <td>16</td>\n",
       "      <td>814</td>\n",
       "      <td>169</td>\n",
       "      <td>1</td>\n",
       "      <td>0.83</td>\n",
       "      <td>Not Defined</td>\n",
       "      <td>Not Defined</td>\n",
       "      <td>Not Defined</td>\n",
       "      <td>Not Defined</td>\n",
       "      <td>Not Defined</td>\n",
       "      <td>Not Defined</td>\n",
       "      <td>Not Defined</td>\n",
       "      <td>0.5</td>\n",
       "    </tr>\n",
       "    <tr>\n",
       "      <th>Emphysema</th>\n",
       "      <td>20</td>\n",
       "      <td>869</td>\n",
       "      <td>103</td>\n",
       "      <td>8</td>\n",
       "      <td>0.889</td>\n",
       "      <td>Not Defined</td>\n",
       "      <td>Not Defined</td>\n",
       "      <td>Not Defined</td>\n",
       "      <td>Not Defined</td>\n",
       "      <td>Not Defined</td>\n",
       "      <td>Not Defined</td>\n",
       "      <td>Not Defined</td>\n",
       "      <td>0.5</td>\n",
       "    </tr>\n",
       "    <tr>\n",
       "      <th>Effusion</th>\n",
       "      <td>99</td>\n",
       "      <td>690</td>\n",
       "      <td>196</td>\n",
       "      <td>15</td>\n",
       "      <td>0.789</td>\n",
       "      <td>Not Defined</td>\n",
       "      <td>Not Defined</td>\n",
       "      <td>Not Defined</td>\n",
       "      <td>Not Defined</td>\n",
       "      <td>Not Defined</td>\n",
       "      <td>Not Defined</td>\n",
       "      <td>Not Defined</td>\n",
       "      <td>0.5</td>\n",
       "    </tr>\n",
       "    <tr>\n",
       "      <th>Hernia</th>\n",
       "      <td>1</td>\n",
       "      <td>743</td>\n",
       "      <td>255</td>\n",
       "      <td>1</td>\n",
       "      <td>0.744</td>\n",
       "      <td>Not Defined</td>\n",
       "      <td>Not Defined</td>\n",
       "      <td>Not Defined</td>\n",
       "      <td>Not Defined</td>\n",
       "      <td>Not Defined</td>\n",
       "      <td>Not Defined</td>\n",
       "      <td>Not Defined</td>\n",
       "      <td>0.5</td>\n",
       "    </tr>\n",
       "    <tr>\n",
       "      <th>Infiltration</th>\n",
       "      <td>114</td>\n",
       "      <td>543</td>\n",
       "      <td>265</td>\n",
       "      <td>78</td>\n",
       "      <td>0.657</td>\n",
       "      <td>Not Defined</td>\n",
       "      <td>Not Defined</td>\n",
       "      <td>Not Defined</td>\n",
       "      <td>Not Defined</td>\n",
       "      <td>Not Defined</td>\n",
       "      <td>Not Defined</td>\n",
       "      <td>Not Defined</td>\n",
       "      <td>0.5</td>\n",
       "    </tr>\n",
       "    <tr>\n",
       "      <th>Mass</th>\n",
       "      <td>40</td>\n",
       "      <td>789</td>\n",
       "      <td>158</td>\n",
       "      <td>13</td>\n",
       "      <td>0.829</td>\n",
       "      <td>Not Defined</td>\n",
       "      <td>Not Defined</td>\n",
       "      <td>Not Defined</td>\n",
       "      <td>Not Defined</td>\n",
       "      <td>Not Defined</td>\n",
       "      <td>Not Defined</td>\n",
       "      <td>Not Defined</td>\n",
       "      <td>0.5</td>\n",
       "    </tr>\n",
       "    <tr>\n",
       "      <th>Nodule</th>\n",
       "      <td>28</td>\n",
       "      <td>731</td>\n",
       "      <td>220</td>\n",
       "      <td>21</td>\n",
       "      <td>0.759</td>\n",
       "      <td>Not Defined</td>\n",
       "      <td>Not Defined</td>\n",
       "      <td>Not Defined</td>\n",
       "      <td>Not Defined</td>\n",
       "      <td>Not Defined</td>\n",
       "      <td>Not Defined</td>\n",
       "      <td>Not Defined</td>\n",
       "      <td>0.5</td>\n",
       "    </tr>\n",
       "    <tr>\n",
       "      <th>Atelectasis</th>\n",
       "      <td>64</td>\n",
       "      <td>657</td>\n",
       "      <td>249</td>\n",
       "      <td>30</td>\n",
       "      <td>0.721</td>\n",
       "      <td>Not Defined</td>\n",
       "      <td>Not Defined</td>\n",
       "      <td>Not Defined</td>\n",
       "      <td>Not Defined</td>\n",
       "      <td>Not Defined</td>\n",
       "      <td>Not Defined</td>\n",
       "      <td>Not Defined</td>\n",
       "      <td>0.5</td>\n",
       "    </tr>\n",
       "    <tr>\n",
       "      <th>Pneumothorax</th>\n",
       "      <td>24</td>\n",
       "      <td>785</td>\n",
       "      <td>183</td>\n",
       "      <td>8</td>\n",
       "      <td>0.809</td>\n",
       "      <td>Not Defined</td>\n",
       "      <td>Not Defined</td>\n",
       "      <td>Not Defined</td>\n",
       "      <td>Not Defined</td>\n",
       "      <td>Not Defined</td>\n",
       "      <td>Not Defined</td>\n",
       "      <td>Not Defined</td>\n",
       "      <td>0.5</td>\n",
       "    </tr>\n",
       "    <tr>\n",
       "      <th>Pleural_Thickening</th>\n",
       "      <td>24</td>\n",
       "      <td>713</td>\n",
       "      <td>259</td>\n",
       "      <td>4</td>\n",
       "      <td>0.737</td>\n",
       "      <td>Not Defined</td>\n",
       "      <td>Not Defined</td>\n",
       "      <td>Not Defined</td>\n",
       "      <td>Not Defined</td>\n",
       "      <td>Not Defined</td>\n",
       "      <td>Not Defined</td>\n",
       "      <td>Not Defined</td>\n",
       "      <td>0.5</td>\n",
       "    </tr>\n",
       "    <tr>\n",
       "      <th>Pneumonia</th>\n",
       "      <td>14</td>\n",
       "      <td>661</td>\n",
       "      <td>320</td>\n",
       "      <td>5</td>\n",
       "      <td>0.675</td>\n",
       "      <td>Not Defined</td>\n",
       "      <td>Not Defined</td>\n",
       "      <td>Not Defined</td>\n",
       "      <td>Not Defined</td>\n",
       "      <td>Not Defined</td>\n",
       "      <td>Not Defined</td>\n",
       "      <td>Not Defined</td>\n",
       "      <td>0.5</td>\n",
       "    </tr>\n",
       "    <tr>\n",
       "      <th>Fibrosis</th>\n",
       "      <td>10</td>\n",
       "      <td>725</td>\n",
       "      <td>261</td>\n",
       "      <td>4</td>\n",
       "      <td>0.735</td>\n",
       "      <td>Not Defined</td>\n",
       "      <td>Not Defined</td>\n",
       "      <td>Not Defined</td>\n",
       "      <td>Not Defined</td>\n",
       "      <td>Not Defined</td>\n",
       "      <td>Not Defined</td>\n",
       "      <td>Not Defined</td>\n",
       "      <td>0.5</td>\n",
       "    </tr>\n",
       "    <tr>\n",
       "      <th>Edema</th>\n",
       "      <td>15</td>\n",
       "      <td>767</td>\n",
       "      <td>213</td>\n",
       "      <td>5</td>\n",
       "      <td>0.782</td>\n",
       "      <td>Not Defined</td>\n",
       "      <td>Not Defined</td>\n",
       "      <td>Not Defined</td>\n",
       "      <td>Not Defined</td>\n",
       "      <td>Not Defined</td>\n",
       "      <td>Not Defined</td>\n",
       "      <td>Not Defined</td>\n",
       "      <td>0.5</td>\n",
       "    </tr>\n",
       "    <tr>\n",
       "      <th>Consolidation</th>\n",
       "      <td>36</td>\n",
       "      <td>658</td>\n",
       "      <td>297</td>\n",
       "      <td>9</td>\n",
       "      <td>0.694</td>\n",
       "      <td>Not Defined</td>\n",
       "      <td>Not Defined</td>\n",
       "      <td>Not Defined</td>\n",
       "      <td>Not Defined</td>\n",
       "      <td>Not Defined</td>\n",
       "      <td>Not Defined</td>\n",
       "      <td>Not Defined</td>\n",
       "      <td>0.5</td>\n",
       "    </tr>\n",
       "  </tbody>\n",
       "</table>\n",
       "</div>"
      ],
      "text/plain": [
       "                     TP   TN   FP  FN Accuracy   Prevalence  Sensitivity  \\\n",
       "                                                                           \n",
       "Cardiomegaly         16  814  169   1     0.83  Not Defined  Not Defined   \n",
       "Emphysema            20  869  103   8    0.889  Not Defined  Not Defined   \n",
       "Effusion             99  690  196  15    0.789  Not Defined  Not Defined   \n",
       "Hernia                1  743  255   1    0.744  Not Defined  Not Defined   \n",
       "Infiltration        114  543  265  78    0.657  Not Defined  Not Defined   \n",
       "Mass                 40  789  158  13    0.829  Not Defined  Not Defined   \n",
       "Nodule               28  731  220  21    0.759  Not Defined  Not Defined   \n",
       "Atelectasis          64  657  249  30    0.721  Not Defined  Not Defined   \n",
       "Pneumothorax         24  785  183   8    0.809  Not Defined  Not Defined   \n",
       "Pleural_Thickening   24  713  259   4    0.737  Not Defined  Not Defined   \n",
       "Pneumonia            14  661  320   5    0.675  Not Defined  Not Defined   \n",
       "Fibrosis             10  725  261   4    0.735  Not Defined  Not Defined   \n",
       "Edema                15  767  213   5    0.782  Not Defined  Not Defined   \n",
       "Consolidation        36  658  297   9    0.694  Not Defined  Not Defined   \n",
       "\n",
       "                    Specificity          PPV          NPV          AUC  \\\n",
       "                                                                         \n",
       "Cardiomegaly        Not Defined  Not Defined  Not Defined  Not Defined   \n",
       "Emphysema           Not Defined  Not Defined  Not Defined  Not Defined   \n",
       "Effusion            Not Defined  Not Defined  Not Defined  Not Defined   \n",
       "Hernia              Not Defined  Not Defined  Not Defined  Not Defined   \n",
       "Infiltration        Not Defined  Not Defined  Not Defined  Not Defined   \n",
       "Mass                Not Defined  Not Defined  Not Defined  Not Defined   \n",
       "Nodule              Not Defined  Not Defined  Not Defined  Not Defined   \n",
       "Atelectasis         Not Defined  Not Defined  Not Defined  Not Defined   \n",
       "Pneumothorax        Not Defined  Not Defined  Not Defined  Not Defined   \n",
       "Pleural_Thickening  Not Defined  Not Defined  Not Defined  Not Defined   \n",
       "Pneumonia           Not Defined  Not Defined  Not Defined  Not Defined   \n",
       "Fibrosis            Not Defined  Not Defined  Not Defined  Not Defined   \n",
       "Edema               Not Defined  Not Defined  Not Defined  Not Defined   \n",
       "Consolidation       Not Defined  Not Defined  Not Defined  Not Defined   \n",
       "\n",
       "                             F1 Threshold  \n",
       "                                           \n",
       "Cardiomegaly        Not Defined       0.5  \n",
       "Emphysema           Not Defined       0.5  \n",
       "Effusion            Not Defined       0.5  \n",
       "Hernia              Not Defined       0.5  \n",
       "Infiltration        Not Defined       0.5  \n",
       "Mass                Not Defined       0.5  \n",
       "Nodule              Not Defined       0.5  \n",
       "Atelectasis         Not Defined       0.5  \n",
       "Pneumothorax        Not Defined       0.5  \n",
       "Pleural_Thickening  Not Defined       0.5  \n",
       "Pneumonia           Not Defined       0.5  \n",
       "Fibrosis            Not Defined       0.5  \n",
       "Edema               Not Defined       0.5  \n",
       "Consolidation       Not Defined       0.5  "
      ]
     },
     "execution_count": 29,
     "metadata": {},
     "output_type": "execute_result"
    }
   ],
   "source": [
    "util.get_performance_metrics(y, pred, class_labels, acc=get_accuracy)"
   ]
  },
  {
   "cell_type": "markdown",
   "metadata": {
    "colab_type": "text",
    "id": "HtVllCgFgZZ-"
   },
   "source": [
    "If we were to judge our model's performance based on the accuracy metric, we would say that our model is not very accurate for detecting the `Infiltration` cases (accuracy of 0.657) but pretty accurate for detecting `Emphysema` (accuracy of 0.889). \n",
    "\n",
    "**But is that really the case?...**\n",
    "\n",
    "Let's imagine a model that simply predicts that any patient does **Not** have `Emphysema`, regardless of patient's measurements. Let's calculate the accuracy for such a model."
   ]
  },
  {
   "cell_type": "code",
   "execution_count": null,
   "metadata": {
    "colab": {
     "base_uri": "https://localhost:8080/",
     "height": 34
    },
    "colab_type": "code",
    "id": "6N-2iQrqgZZ_",
    "outputId": "840e3863-17e1-4905-9575-a7fd73367137"
   },
   "outputs": [],
   "source": [
    "get_accuracy(valid_results[\"Emphysema\"].values, np.zeros(len(valid_results)))"
   ]
  },
  {
   "cell_type": "markdown",
   "metadata": {
    "colab_type": "text",
    "id": "BhSRo0iqKy_4"
   },
   "source": [
    "As you can see above, such a model would be 97% accurate! Even better than our deep learning based model. \n",
    "\n",
    "But is this really a good model? Wouldn't this model be wrong 100% of the time if the patient actually had this condition?\n",
    "\n",
    "In the following sections, we will address this concern with more advanced model measures - **sensitivity and specificity** - that evaluate how well the model predicts positives for patients with the condition and negatives for cases that actually do not have the condition."
   ]
  },
  {
   "cell_type": "markdown",
   "metadata": {
    "colab_type": "text",
    "id": "nat--E8KgZaD"
   },
   "source": [
    "<a name='3-3'></a>\n",
    "### 3.3 Prevalence\n",
    "Another important concept is **prevalence**. \n",
    "* In a medical context, prevalence is the proportion of people in the population who have the disease (or condition, etc). \n",
    "* In machine learning terms, this is the proportion of positive examples. The expression for prevalence is:\n",
    "\n",
    "$$prevalence = \\frac{1}{N} \\sum_{i} y_i$$\n",
    "\n",
    "where $y_i = 1$ when the example is 'positive' (has the disease).\n",
    "\n",
    "Let's measure prevalence for each disease:"
   ]
  },
  {
   "cell_type": "markdown",
   "metadata": {},
   "source": [
    "<details>    \n",
    "<summary>\n",
    "    <font size=\"3\" color=\"darkgreen\"><b>Hints</b></font>\n",
    "</summary>\n",
    "<p>\n",
    "<ul>\n",
    "    <li>\n",
    "    You can use <a href=\"https://docs.scipy.org/doc/numpy/reference/generated/numpy.mean.html\" > np.mean </a> to calculate the formula.</li>\n",
    "    <li>Actually, the automatic grader is expecting numpy.mean, so please use it instead of using an equally valid but different way of calculating the prevalence. =) </li>\n",
    "</ul>\n",
    "</p>\n"
   ]
  },
  {
   "cell_type": "code",
   "execution_count": null,
   "metadata": {
    "colab": {},
    "colab_type": "code",
    "id": "dHkdpG-RVRNp"
   },
   "outputs": [],
   "source": [
    "# UNQ_C3 (UNIQUE CELL IDENTIFIER, DO NOT EDIT)\n",
    "def get_prevalence(y):\n",
    "    \"\"\"\n",
    "    Compute prevalence.\n",
    "\n",
    "    Args:\n",
    "        y (np.array): ground truth, size (n_examples)\n",
    "    Returns:\n",
    "        prevalence (float): prevalence of positive cases\n",
    "    \"\"\"\n",
    "    prevalence = 0.0\n",
    "    \n",
    "    ### START CODE HERE (REPLACE INSTANCES OF 'None' with your code) ###\n",
    "    \n",
    "    prevalence = None\n",
    "    \n",
    "    ### END CODE HERE ###\n",
    "    \n",
    "    return prevalence"
   ]
  },
  {
   "cell_type": "code",
   "execution_count": null,
   "metadata": {
    "colab": {
     "base_uri": "https://localhost:8080/",
     "height": 102
    },
    "colab_type": "code",
    "id": "djP5dqqsVabT",
    "outputId": "a3888472-26c5-4340-e310-026d98a5fe2d"
   },
   "outputs": [],
   "source": [
    "# Test\n",
    "print(\"Test case:\\n\")\n",
    "\n",
    "y_test = np.array([1, 0, 0, 1, 1, 0, 0, 0, 0, 1])\n",
    "print(f'test labels: {y_test}')\n",
    "\n",
    "print(f\"computed prevalence: {get_prevalence(y_test)}\")\n"
   ]
  },
  {
   "cell_type": "code",
   "execution_count": null,
   "metadata": {
    "colab": {
     "base_uri": "https://localhost:8080/",
     "height": 497
    },
    "colab_type": "code",
    "id": "lpBSG_kBVPXt",
    "outputId": "d9ce79fb-8222-43bf-fcef-1e3fdbbc8d66"
   },
   "outputs": [],
   "source": [
    "util.get_performance_metrics(y, pred, class_labels, acc=get_accuracy, prevalence=get_prevalence)"
   ]
  },
  {
   "cell_type": "markdown",
   "metadata": {},
   "source": [
    "`Hernia` has a prevalence 0.002, which is the rarest among the studied conditions in our dataset."
   ]
  },
  {
   "cell_type": "markdown",
   "metadata": {
    "colab_type": "text",
    "id": "n5vUNrXOgZaK"
   },
   "source": [
    "<a name='3-4'></a>\n",
    "### 3.4 Sensitivity and Specificity\n",
    "<img src=\"sens_spec.png\" width=\"30%\">\n",
    "\n",
    "Sensitivity and specificity are two of the most prominent numbers that are used to measure diagnostics tests.\n",
    "- Sensitivity is the probability that our test outputs positive given that the case is actually positive.\n",
    "- Specificity is the probability that the test outputs negative given that the case is actually negative. \n",
    "\n",
    "We can phrase this easily in terms of true positives, true negatives, false positives, and false negatives: \n",
    "\n",
    "$$sensitivity = \\frac{\\text{true positives}}{\\text{true positives} + \\text{false negatives}}$$\n",
    "\n",
    "$$specificity = \\frac{\\text{true negatives}}{\\text{true negatives} + \\text{false positives}}$$\n",
    "\n",
    "Let's calculate sensitivity and specificity for our model:"
   ]
  },
  {
   "cell_type": "code",
   "execution_count": null,
   "metadata": {
    "colab": {},
    "colab_type": "code",
    "id": "W31FpMtmYhPr"
   },
   "outputs": [],
   "source": [
    "# UNQ_C4 (UNIQUE CELL IDENTIFIER, DO NOT EDIT)\n",
    "def get_sensitivity(y, pred, th=0.5):\n",
    "    \"\"\"\n",
    "    Compute sensitivity of predictions at threshold.\n",
    "\n",
    "    Args:\n",
    "        y (np.array): ground truth, size (n_examples)\n",
    "        pred (np.array): model output, size (n_examples)\n",
    "        th (float): cutoff value for positive prediction from model\n",
    "    Returns:\n",
    "        sensitivity (float): probability that our test outputs positive given that the case is actually positive\n",
    "    \"\"\"\n",
    "    sensitivity = 0.0\n",
    "    \n",
    "    ### START CODE HERE (REPLACE INSTANCES OF 'None' with your code) ###\n",
    "    \n",
    "    # get TP and FN using our previously defined functions\n",
    "    TP = None\n",
    "    FN = None\n",
    "\n",
    "    # use TP and FN to compute sensitivity\n",
    "    sensitivity = None\n",
    "    \n",
    "    ### END CODE HERE ###\n",
    "    \n",
    "    return sensitivity\n",
    "\n",
    "def get_specificity(y, pred, th=0.5):\n",
    "    \"\"\"\n",
    "    Compute specificity of predictions at threshold.\n",
    "\n",
    "    Args:\n",
    "        y (np.array): ground truth, size (n_examples)\n",
    "        pred (np.array): model output, size (n_examples)\n",
    "        th (float): cutoff value for positive prediction from model\n",
    "    Returns:\n",
    "        specificity (float): probability that the test outputs negative given that the case is actually negative\n",
    "    \"\"\"\n",
    "    specificity = 0.0\n",
    "    \n",
    "    ### START CODE HERE (REPLACE INSTANCES OF 'None' with your code) ###\n",
    "    \n",
    "    # get TN and FP using our previously defined functions\n",
    "    TN = None\n",
    "    FP = None\n",
    "    \n",
    "    # use TN and FP to compute specificity \n",
    "    specificity = None\n",
    "    \n",
    "    ### END CODE HERE ###\n",
    "    \n",
    "    return specificity"
   ]
  },
  {
   "cell_type": "code",
   "execution_count": null,
   "metadata": {
    "colab": {
     "base_uri": "https://localhost:8080/",
     "height": 187
    },
    "colab_type": "code",
    "id": "RInygNYDXdHz",
    "outputId": "1915ff27-1701-4ee7-ddf7-5a058faee29c"
   },
   "outputs": [],
   "source": [
    "# Test\n",
    "print(\"Test case\")\n",
    "\n",
    "y_test = np.array([1, 0, 0, 1, 1])\n",
    "print(f'test labels: {y_test}\\n')\n",
    "\n",
    "preds_test = np.array([0.8, 0.8, 0.4, 0.6, 0.3])\n",
    "print(f'test predictions: {preds_test}\\n')\n",
    "\n",
    "threshold = 0.5\n",
    "print(f\"threshold: {threshold}\\n\")\n",
    "\n",
    "print(f\"computed sensitivity: {get_sensitivity(y_test, preds_test, threshold):.2f}\")\n",
    "print(f\"computed specificity: {get_specificity(y_test, preds_test, threshold):.2f}\")"
   ]
  },
  {
   "cell_type": "markdown",
   "metadata": {},
   "source": [
    "#### Expected output:\n",
    "\n",
    "```Python\n",
    "Test case\n",
    "test labels: [1 0 0 1 1]\n",
    "\n",
    "test predictions: [0.8 0.8 0.4 0.6 0.3]\n",
    "\n",
    "threshold: 0.5\n",
    "\n",
    "computed sensitivity: 0.67\n",
    "computed specificity: 0.50\n",
    "\n",
    "```"
   ]
  },
  {
   "cell_type": "code",
   "execution_count": null,
   "metadata": {
    "colab": {
     "base_uri": "https://localhost:8080/",
     "height": 497
    },
    "colab_type": "code",
    "id": "EA3vVNp5gZaO",
    "outputId": "1f82e534-0353-406e-df6a-b5926db06803"
   },
   "outputs": [],
   "source": [
    "util.get_performance_metrics(y, pred, class_labels, acc=get_accuracy, prevalence=get_prevalence, \n",
    "                        sens=get_sensitivity, spec=get_specificity)"
   ]
  },
  {
   "cell_type": "markdown",
   "metadata": {
    "colab_type": "text",
    "id": "ExuKMpQCgZaR"
   },
   "source": [
    "Note that specificity and sensitivity do not depend on the prevalence of the positive class in the dataset. \n",
    "* This is because the statistics are only computed within people of the same class\n",
    "* Sensitivity only considers output on people in the positive class\n",
    "* Similarly, specificity only considers output on people in the negative class."
   ]
  },
  {
   "cell_type": "markdown",
   "metadata": {
    "colab_type": "text",
    "id": "uib5ZXZ8gZaS"
   },
   "source": [
    "<a name='3-5'></a>\n",
    "### 3.5 PPV and NPV\n",
    "\n",
    "Diagnostically, however, sensitivity and specificity are not helpful. Sensitivity, for example, tells us the probability our test outputs positive given that the person already has the condition. Here, we are conditioning on the thing we would like to find out (whether the patient has the condition)!\n",
    "\n",
    "What would be more helpful is the probability that the person has the disease given that our test outputs positive. That brings us to positive predictive value (PPV) and negative predictive value (NPV).\n",
    "\n",
    "- Positive predictive value (PPV) is the probability that subjects with a positive screening test truly have the disease.\n",
    "- Negative predictive value (NPV) is the probability that subjects with a negative screening test truly don't have the disease.\n",
    "\n",
    "Again, we can formulate these in terms of true positives, true negatives, false positives, and false negatives: \n",
    "\n",
    "$$PPV = \\frac{\\text{true positives}}{\\text{true positives} + \\text{false positives}}$$ \n",
    "\n",
    "$$NPV = \\frac{\\text{true negatives}}{\\text{true negatives} + \\text{false negatives}}$$\n",
    "\n",
    "\n",
    "Let's calculate PPV & NPV for our model:"
   ]
  },
  {
   "cell_type": "code",
   "execution_count": null,
   "metadata": {
    "colab": {},
    "colab_type": "code",
    "id": "8nPknnBaeyPH"
   },
   "outputs": [],
   "source": [
    "# UNQ_C5 (UNIQUE CELL IDENTIFIER, DO NOT EDIT)\n",
    "def get_ppv(y, pred, th=0.5):\n",
    "    \"\"\"\n",
    "    Compute PPV of predictions at threshold.\n",
    "\n",
    "    Args:\n",
    "        y (np.array): ground truth, size (n_examples)\n",
    "        pred (np.array): model output, size (n_examples)\n",
    "        th (float): cutoff value for positive prediction from model\n",
    "    Returns:\n",
    "        PPV (float): positive predictive value of predictions at threshold\n",
    "    \"\"\"\n",
    "    PPV = 0.0\n",
    "    \n",
    "    ### START CODE HERE (REPLACE INSTANCES OF 'None' with your code) ###\n",
    "    \n",
    "    # get TP and FP using our previously defined functions\n",
    "    TP = None\n",
    "    FP = None\n",
    "\n",
    "    # use TP and FP to compute PPV\n",
    "    PPV = None\n",
    "    \n",
    "    ### END CODE HERE ###\n",
    "    \n",
    "    return PPV\n",
    "\n",
    "def get_npv(y, pred, th=0.5):\n",
    "    \"\"\"\n",
    "    Compute NPV of predictions at threshold.\n",
    "\n",
    "    Args:\n",
    "        y (np.array): ground truth, size (n_examples)\n",
    "        pred (np.array): model output, size (n_examples)\n",
    "        th (float): cutoff value for positive prediction from model\n",
    "    Returns:\n",
    "        NPV (float): negative predictive value of predictions at threshold\n",
    "    \"\"\"\n",
    "    NPV = 0.0\n",
    "    \n",
    "    ### START CODE HERE (REPLACE INSTANCES OF 'None' with your code) ###\n",
    "    \n",
    "    # get TN and FN using our previously defined functions\n",
    "    TN = None\n",
    "    FN = None\n",
    "\n",
    "    # use TN and FN to compute NPV\n",
    "    NPV = None\n",
    "    \n",
    "    ### END CODE HERE ###\n",
    "    \n",
    "    return NPV"
   ]
  },
  {
   "cell_type": "code",
   "execution_count": null,
   "metadata": {
    "colab": {
     "base_uri": "https://localhost:8080/",
     "height": 187
    },
    "colab_type": "code",
    "id": "rHMPfR45fB5k",
    "outputId": "e9759c8f-17ef-47df-c612-d7c3b46970ab"
   },
   "outputs": [],
   "source": [
    "# Test\n",
    "print(\"Test case:\\n\")\n",
    "\n",
    "y_test = np.array([1, 0, 0, 1, 1])\n",
    "print(f'test labels: {y_test}')\n",
    "\n",
    "preds_test = np.array([0.8, 0.8, 0.4, 0.6, 0.3])\n",
    "print(f'test predictions: {preds_test}\\n')\n",
    "\n",
    "threshold = 0.5\n",
    "print(f\"threshold: {threshold}\\n\")\n",
    "\n",
    "print(f\"computed ppv: {get_ppv(y_test, preds_test, threshold):.2f}\")\n",
    "print(f\"computed npv: {get_npv(y_test, preds_test, threshold):.2f}\")"
   ]
  },
  {
   "cell_type": "markdown",
   "metadata": {},
   "source": [
    "#### Expected output:\n",
    "\n",
    "```Python\n",
    "Test case:\n",
    "\n",
    "test labels: [1 0 0 1 1]\n",
    "test predictions: [0.8 0.8 0.4 0.6 0.3]\n",
    "\n",
    "threshold: 0.5\n",
    "\n",
    "computed ppv: 0.67\n",
    "computed npv: 0.50\n",
    "```"
   ]
  },
  {
   "cell_type": "code",
   "execution_count": null,
   "metadata": {
    "colab": {
     "base_uri": "https://localhost:8080/",
     "height": 497
    },
    "colab_type": "code",
    "id": "Upr9wVL-gZaW",
    "outputId": "e8fe9db4-f7a3-4403-c36e-60cfb84385c3"
   },
   "outputs": [],
   "source": [
    "util.get_performance_metrics(y, pred, class_labels, acc=get_accuracy, prevalence=get_prevalence, \n",
    "                        sens=get_sensitivity, spec=get_specificity, ppv=get_ppv, npv=get_npv)"
   ]
  },
  {
   "cell_type": "markdown",
   "metadata": {
    "colab_type": "text",
    "id": "Sx_454Rpff-D"
   },
   "source": [
    "Notice that despite having very high sensitivity and accuracy, the PPV of the predictions could still be very low. \n",
    "\n",
    "This is the case with `Edema`, for example. \n",
    "* The sensitivity for `Edema` is 0.75.\n",
    "* However, given that the model predicted positive, the probability that a person has Edema (its PPV) is only 0.066!"
   ]
  },
  {
   "cell_type": "markdown",
   "metadata": {
    "colab_type": "text",
    "id": "5DEnn_rTgZaa"
   },
   "source": [
    "<a name='3-6'></a>\n",
    "### 3.6 ROC Curve\n",
    "\n",
    "So far we have been operating under the assumption that our model's prediction of `0.5` and above should be treated as positive and otherwise it should be treated as negative. This however was a rather arbitrary choice. One way to see this, is to look at a very informative visualization called the receiver operating characteristic (ROC) curve.\n",
    "\n",
    "The ROC curve is created by plotting the true positive rate (TPR) against the false positive rate (FPR) at various threshold settings. The ideal point is at the top left, with a true positive rate of 1 and a false positive rate of 0. The various points on the curve are generated by gradually changing the threshold.\n",
    "\n",
    "Let's look at this curve for our model:"
   ]
  },
  {
   "cell_type": "code",
   "execution_count": null,
   "metadata": {
    "colab": {
     "base_uri": "https://localhost:8080/",
     "height": 442
    },
    "colab_type": "code",
    "id": "lA-UFT9ngZae",
    "outputId": "66725978-cb15-4ade-c4da-33deca6c509d"
   },
   "outputs": [],
   "source": [
    "util.get_curve(y, pred, class_labels)"
   ]
  },
  {
   "cell_type": "markdown",
   "metadata": {
    "colab_type": "text",
    "id": "adjBlFIqgZah"
   },
   "source": [
    "The area under the ROC curve is also called AUCROC or C-statistic and is a measure of goodness of fit. In medical literature this number also gives the probability that a randomly selected patient who experienced a condition had a higher risk score than a patient who had not experienced the event. This summarizes the model output across all thresholds, and provides a good sense of the discriminative power of a given model.\n",
    "\n",
    "Let's use the `sklearn` metric function of `roc_auc_score` to add this score to our metrics table."
   ]
  },
  {
   "cell_type": "code",
   "execution_count": null,
   "metadata": {
    "colab": {
     "base_uri": "https://localhost:8080/",
     "height": 497
    },
    "colab_type": "code",
    "id": "ipMeytjAgZai",
    "outputId": "a249365b-c1a9-45d5-943b-a63880a25a38"
   },
   "outputs": [],
   "source": [
    "from sklearn.metrics import roc_auc_score\n",
    "util.get_performance_metrics(y, pred, class_labels, acc=get_accuracy, prevalence=get_prevalence, \n",
    "                        sens=get_sensitivity, spec=get_specificity, ppv=get_ppv, npv=get_npv, auc=roc_auc_score)"
   ]
  },
  {
   "cell_type": "markdown",
   "metadata": {
    "colab_type": "text",
    "id": "_x5U0YTYgZaz"
   },
   "source": [
    "<a name='4'></a>\n",
    "## 4. Confidence Intervals"
   ]
  },
  {
   "cell_type": "markdown",
   "metadata": {
    "colab_type": "text",
    "id": "dBE9owjVgZa0"
   },
   "source": [
    "Of course our dataset is only a sample of the real world, and our calculated values for all above metrics is an estimate of the real world values. It would be good to quantify this uncertainty due to the sampling of our dataset. We'll do this through the use of confidence intervals. A 95\\% confidence interval for an estimate $\\hat{s}$ of a parameter $s$ is an interval $I = (a, b)$ such that 95\\% of the time when the experiment is run, the true value $s$ is contained in $I$. More concretely, if we were to run the experiment many times, then the fraction of those experiments for which $I$ contains the true parameter would tend towards 95\\%.\n",
    "\n",
    "While some estimates come with methods for computing the confidence interval analytically, more complicated statistics, such as the AUC for example, are difficult. For these we can use a method called the *bootstrap*. The bootstrap estimates the uncertainty by resampling the dataset with replacement. For each resampling $i$, we will get a new estimate, $\\hat{s}_i$. We can then estimate the distribution of $\\hat{s}$ by using the distribution of $\\hat{s}_i$ for our bootstrap samples.\n",
    "\n",
    "In the code below, we create bootstrap samples and compute sample AUCs from those samples. Note that we use stratified random sampling (sampling from the positive and negative classes separately) to make sure that members of each class are represented. "
   ]
  },
  {
   "cell_type": "code",
   "execution_count": null,
   "metadata": {
    "colab": {},
    "colab_type": "code",
    "id": "y9iFosWagZa1"
   },
   "outputs": [],
   "source": [
    "def bootstrap_auc(y, pred, classes, bootstraps = 100, fold_size = 1000):\n",
    "    statistics = np.zeros((len(classes), bootstraps))\n",
    "\n",
    "    for c in range(len(classes)):\n",
    "        df = pd.DataFrame(columns=['y', 'pred'])\n",
    "        df.loc[:, 'y'] = y[:, c]\n",
    "        df.loc[:, 'pred'] = pred[:, c]\n",
    "        # get positive examples for stratified sampling\n",
    "        df_pos = df[df.y == 1]\n",
    "        df_neg = df[df.y == 0]\n",
    "        prevalence = len(df_pos) / len(df)\n",
    "        for i in range(bootstraps):\n",
    "            # stratified sampling of positive and negative examples\n",
    "            pos_sample = df_pos.sample(n = int(fold_size * prevalence), replace=True)\n",
    "            neg_sample = df_neg.sample(n = int(fold_size * (1-prevalence)), replace=True)\n",
    "\n",
    "            y_sample = np.concatenate([pos_sample.y.values, neg_sample.y.values])\n",
    "            pred_sample = np.concatenate([pos_sample.pred.values, neg_sample.pred.values])\n",
    "            score = roc_auc_score(y_sample, pred_sample)\n",
    "            statistics[c][i] = score\n",
    "    return statistics\n",
    "\n",
    "statistics = bootstrap_auc(y, pred, class_labels)"
   ]
  },
  {
   "cell_type": "markdown",
   "metadata": {
    "colab_type": "text",
    "id": "R0PF5X9cBsj4"
   },
   "source": [
    "Now we can compute confidence intervals from the sample statistics that we computed."
   ]
  },
  {
   "cell_type": "code",
   "execution_count": null,
   "metadata": {
    "colab": {
     "base_uri": "https://localhost:8080/",
     "height": 483
    },
    "colab_type": "code",
    "id": "3pczjtYdgZa4",
    "outputId": "dbb0dca8-a4f2-460d-cf26-5b8d9a0e935b"
   },
   "outputs": [],
   "source": [
    "util.print_confidence_intervals(class_labels, statistics)"
   ]
  },
  {
   "cell_type": "markdown",
   "metadata": {
    "colab_type": "text",
    "id": "hVwBqqGFgZa8"
   },
   "source": [
    "As you can see, our confidence intervals are much wider for some classes than for others. Hernia, for example, has an interval around (0.30 - 0.98), indicating that we can't be certain it is better than chance (at 0.5). "
   ]
  },
  {
   "cell_type": "markdown",
   "metadata": {
    "colab_type": "text",
    "id": "mu-YFGp-gZam"
   },
   "source": [
    "<a name='5'></a>\n",
    "## 5. Precision-Recall Curve\n"
   ]
  },
  {
   "cell_type": "markdown",
   "metadata": {
    "colab_type": "text",
    "id": "qFHQ1N-W5uki"
   },
   "source": [
    "Precision-Recall is a useful measure of success of prediction when the classes are very imbalanced. \n",
    "\n",
    "In information retrieval\n",
    "- Precision is a measure of result relevancy and that is equivalent to our previously defined PPV. \n",
    "- Recall is a measure of how many truly relevant results are returned and that is equivalent to our previously defined sensitivity measure.\n",
    "\n",
    "The precision-recall curve (PRC) shows the trade-off between precision and recall for different thresholds. A high area under the curve represents both high recall and high precision, where high precision relates to a low false positive rate, and high recall relates to a low false negative rate. \n",
    "\n",
    "High scores for both show that the classifier is returning accurate results (high precision), as well as returning a majority of all positive results (high recall).\n",
    "\n",
    "Run the following cell to generate a PRC:"
   ]
  },
  {
   "cell_type": "code",
   "execution_count": null,
   "metadata": {
    "colab": {
     "base_uri": "https://localhost:8080/",
     "height": 442
    },
    "colab_type": "code",
    "id": "-ZauXuN2gZao",
    "outputId": "c54c393a-bcc7-453f-f6ca-e0676328bd09"
   },
   "outputs": [],
   "source": [
    "util.get_curve(y, pred, class_labels, curve='prc')"
   ]
  },
  {
   "cell_type": "markdown",
   "metadata": {
    "colab_type": "text",
    "id": "2M_NqLxggZau"
   },
   "source": [
    "<a name='6'></a>\n",
    "## 6. F1 Score"
   ]
  },
  {
   "cell_type": "markdown",
   "metadata": {
    "colab_type": "text",
    "id": "NRDnbrt4gZaw"
   },
   "source": [
    "F1 score is the harmonic mean of the precision and recall, where an F1 score reaches its best value at 1 (perfect precision and recall) and worst at 0. \n",
    "\n",
    "Again, we can simply use `sklearn`'s utility metric function of `f1_score` to add this measure to our performance table."
   ]
  },
  {
   "cell_type": "code",
   "execution_count": null,
   "metadata": {
    "colab": {
     "base_uri": "https://localhost:8080/",
     "height": 497
    },
    "colab_type": "code",
    "id": "oNHl3FBUgZax",
    "outputId": "c3d45590-b4dc-4f05-827b-54961bd628ff"
   },
   "outputs": [],
   "source": [
    "from sklearn.metrics import f1_score\n",
    "util.get_performance_metrics(y, pred, class_labels, acc=get_accuracy, prevalence=get_prevalence, \n",
    "                        sens=get_sensitivity, spec=get_specificity, ppv=get_ppv, npv=get_npv, auc=roc_auc_score,f1=f1_score)"
   ]
  },
  {
   "cell_type": "markdown",
   "metadata": {
    "colab_type": "text",
    "id": "kE9MV08bgZa9"
   },
   "source": [
    "<a name='7'></a>\n",
    "## 7. Calibration"
   ]
  },
  {
   "cell_type": "markdown",
   "metadata": {
    "colab_type": "text",
    "id": "LOSnToD4gZa9"
   },
   "source": [
    "When performing classification we often want not only to predict the class label, but also obtain a probability of each label. This probability would ideally give us some kind of confidence on the prediction. In order to observe how our model's generated probabilities are aligned with the real probabilities, we can plot what's called a *calibration curve*. \n",
    "\n",
    "In order to generate a calibration plot, we first bucketize our predictions to a fixed number of separate bins (e.g. 5) between 0 and 1. We then calculate a point for each bin: the x-value for each point is the mean for the probability that our model has assigned to these points and the y-value for each point fraction of true positives in that bin. We then plot these points in a linear plot. A well-calibrated model has a calibration curve that almost aligns with the y=x line.\n",
    "\n",
    "The `sklearn` library has a utility `calibration_curve` for generating a calibration plot. Let's use it and take a look at our model's calibration:"
   ]
  },
  {
   "cell_type": "code",
   "execution_count": null,
   "metadata": {
    "colab": {},
    "colab_type": "code",
    "id": "VnomxuuJgZa-"
   },
   "outputs": [],
   "source": [
    "from sklearn.calibration import calibration_curve\n",
    "def plot_calibration_curve(y, pred):\n",
    "    plt.figure(figsize=(20, 20))\n",
    "    for i in range(len(class_labels)):\n",
    "        plt.subplot(4, 4, i + 1)\n",
    "        fraction_of_positives, mean_predicted_value = calibration_curve(y[:,i], pred[:,i], n_bins=20)\n",
    "        plt.plot([0, 1], [0, 1], linestyle='--')\n",
    "        plt.plot(mean_predicted_value, fraction_of_positives, marker='.')\n",
    "        plt.xlabel(\"Predicted Value\")\n",
    "        plt.ylabel(\"Fraction of Positives\")\n",
    "        plt.title(class_labels[i])\n",
    "    plt.tight_layout()\n",
    "    plt.show()"
   ]
  },
  {
   "cell_type": "code",
   "execution_count": null,
   "metadata": {
    "colab": {},
    "colab_type": "code",
    "id": "P8qlOhMjgZbB",
    "outputId": "b4a496d7-032f-42e2-a31e-b4913c982a94"
   },
   "outputs": [],
   "source": [
    "plot_calibration_curve(y, pred)"
   ]
  },
  {
   "cell_type": "markdown",
   "metadata": {
    "colab_type": "text",
    "id": "FpFvjFXhgZbD"
   },
   "source": [
    "As the above plots show, for most predictions our model's calibration plot does not resemble a well calibrated plot. How can we fix that?...\n",
    "\n",
    "Thankfully, there is a very useful method called [Platt scaling](https://en.wikipedia.org/wiki/Platt_scaling) which works by fitting a logistic regression model to our model's scores. To build this model, we will be using the training portion of our dataset to generate the linear model and then will use the model to calibrate the predictions for our test portion."
   ]
  },
  {
   "cell_type": "code",
   "execution_count": null,
   "metadata": {
    "colab": {},
    "colab_type": "code",
    "id": "fxFg3dvXgZbE",
    "scrolled": true
   },
   "outputs": [],
   "source": [
    "from sklearn.linear_model import LogisticRegression as LR \n",
    "\n",
    "y_train = train_results[class_labels].values\n",
    "pred_train = train_results[pred_labels].values\n",
    "pred_calibrated = np.zeros_like(pred)\n",
    "\n",
    "for i in range(len(class_labels)):\n",
    "    lr = LR(solver='liblinear', max_iter=10000)\n",
    "    lr.fit(pred_train[:, i].reshape(-1, 1), y_train[:, i])    \n",
    "    pred_calibrated[:, i] = lr.predict_proba(pred[:, i].reshape(-1, 1))[:,1]"
   ]
  },
  {
   "cell_type": "code",
   "execution_count": null,
   "metadata": {
    "colab": {},
    "colab_type": "code",
    "id": "k-XNpul1gZbH",
    "outputId": "2cfe338a-6a19-4b34-a189-e5126d79e252"
   },
   "outputs": [],
   "source": [
    "plot_calibration_curve(y[:,], pred_calibrated)"
   ]
  },
  {
   "cell_type": "markdown",
   "metadata": {},
   "source": [
    "# That's it!\n",
    "Congratulations! That was a lot of metrics to get familiarized with. \n",
    "We hope that you feel a lot more confident in your understanding of medical diagnostic evaluation and test your models correctly in your future work :)"
   ]
  }
 ],
 "metadata": {
  "colab": {
   "collapsed_sections": [
    "mu-YFGp-gZam",
    "2M_NqLxggZau",
    "kE9MV08bgZa9"
   ],
   "include_colab_link": true,
   "name": "C1M3_Assignment.ipynb",
   "provenance": []
  },
  "coursera": {
   "schema_names": [
    "AI4MC1-2"
   ]
  },
  "kernelspec": {
   "display_name": "Python 3",
   "language": "python",
   "name": "python3"
  },
  "language_info": {
   "codemirror_mode": {
    "name": "ipython",
    "version": 3
   },
   "file_extension": ".py",
   "mimetype": "text/x-python",
   "name": "python",
   "nbconvert_exporter": "python",
   "pygments_lexer": "ipython3",
   "version": "3.6.2"
  }
 },
 "nbformat": 4,
 "nbformat_minor": 4
}
